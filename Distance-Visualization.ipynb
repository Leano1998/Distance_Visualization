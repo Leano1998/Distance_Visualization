{
 "cells": [
  {
   "cell_type": "markdown",
   "metadata": {
    "pycharm": {
     "name": "#%% md\n"
    }
   },
   "source": [
    "# Viszualizing Distances on a world map #"
   ]
  },
  {
   "cell_type": "markdown",
   "metadata": {
    "pycharm": {
     "name": "#%% md\n"
    }
   },
   "source": [
    "The information about the locations can be found in the folder \"data\". For the aim of the project, we differntiate between datacenters (hosts) and users (clients). They're saved in csv-files containing the main information. "
   ]
  },
  {
   "cell_type": "code",
   "execution_count": 1,
   "metadata": {
    "pycharm": {
     "name": "#%%\n"
    }
   },
   "outputs": [],
   "source": [
    "import pandas as pd\n",
    "import numpy as np\n",
    "import folium\n",
    "import folium.plugins\n",
    "import geo_convert\n",
    "from shapely.geometry import LineString\n",
    "import geopandas as gpd\n",
    "from geopy.distance import geodesic"
   ]
  },
  {
   "cell_type": "markdown",
   "metadata": {
    "pycharm": {
     "name": "#%% md\n"
    }
   },
   "source": [
    "The data is imported into pandas dataframe."
   ]
  },
  {
   "cell_type": "code",
   "execution_count": 2,
   "metadata": {
    "pycharm": {
     "name": "#%%\n"
    }
   },
   "outputs": [
    {
     "name": "stdout",
     "output_type": "stream",
     "text": [
      "   client_id                 name     land                       street  \\\n",
      "0          1        Suomen Pankki  Finland               Snellmaninkatu   \n",
      "1          2     Banque de France   France  rue Croix des Petits-Champs   \n",
      "2          3      Banco de Espana    Spain                    C/ Alcalá   \n",
      "3          4  Τράπεζα Της Ελλάδος   Greece                El. Venizelou   \n",
      "\n",
      "  number    zip      city           notes   latitude  longitude  \n",
      "0      2    170  Helsinki   Finlands bank  60.170329  24.953266  \n",
      "1     31  75001     Paris  Bank of France  48.863840   2.339779  \n",
      "2     48  28014    Madrid   Bank of Spain  40.298463  -3.301920  \n",
      "3     21  10250    Athina  Bank of Greece  37.984860  23.755946  \n",
      "   host_id name     land           street number    zip       city  \\\n",
      "0        1  EZB  Germany  Sonnemannstraße     22  60314  Frankfurt   \n",
      "\n",
      "               notes  latitude  longitude  \n",
      "0  Adress of the EZB  50.11133   8.704547  \n"
     ]
    }
   ],
   "source": [
    "hosts_df = pd.read_csv(\"data/hosts.csv\", dtype={\"Name\": str, \"land\": str, \"street\": str, \"number\": str, \"zip\": str, \"city\": str})\n",
    "clients_df = pd.read_csv(\"data/clients.csv\", dtype={\"Name\": str, \"land\": str, \"street\": str, \"number\": str, \"zip\": str, \"city\": str})\n",
    "def get_coordinates(df: pd.DataFrame) -> pd.DataFrame:\n",
    "    df = pd.DataFrame(df)\n",
    "    if \"longitude\" not in list(df):\n",
    "        coords = []\n",
    "        for _,v in df.iterrows():\n",
    "            address = {\"street\": v[\"street\"],\n",
    "                   \"number\": v[\"number\"],\n",
    "                   \"city\": v[\"city\"],\n",
    "                   \"country\": v[\"land\"],\n",
    "                   \"zip_code\": v[\"zip\"]}\n",
    "            coords.append(geo_convert.geocode_address(address))\n",
    "        df[\"latitude\"] = pd.Series([i[0] for i in coords])\n",
    "        df[\"longitude\"] = pd.Series([i[1] for i in coords])\n",
    "    return df\n",
    "\n",
    "clients_df = get_coordinates(clients_df)\n",
    "clients_df.to_csv(\"data/clients.csv\", index=False, encoding=\"utf8\")\n",
    "hosts_df = get_coordinates(hosts_df)\n",
    "hosts_df.to_csv(\"data/hosts.csv\", index=False, encoding=\"utf8\")\n",
    "print(clients_df)\n",
    "print(hosts_df)"
   ]
  },
  {
   "cell_type": "markdown",
   "metadata": {
    "pycharm": {
     "name": "#%% md\n"
    }
   },
   "source": [
    "We have now imported the data and looked up the geo-data. In the folowing part, the informations will be visualized on a map."
   ]
  },
  {
   "cell_type": "code",
   "execution_count": 3,
   "metadata": {
    "pycharm": {
     "name": "#%%\n"
    }
   },
   "outputs": [
    {
     "data": {
      "text/plain": "<folium.folium.Map at 0x7f4be13c4880>",
      "text/html": "<div style=\"width:100%;\"><div style=\"position:relative;width:100%;height:0;padding-bottom:60%;\"><span style=\"color:#565656\">Make this Notebook Trusted to load map: File -> Trust Notebook</span><iframe srcdoc=\"&lt;!DOCTYPE html&gt;\n&lt;head&gt;    \n    &lt;meta http-equiv=&quot;content-type&quot; content=&quot;text/html; charset=UTF-8&quot; /&gt;\n    \n        &lt;script&gt;\n            L_NO_TOUCH = false;\n            L_DISABLE_3D = false;\n        &lt;/script&gt;\n    \n    &lt;style&gt;html, body {width: 100%;height: 100%;margin: 0;padding: 0;}&lt;/style&gt;\n    &lt;style&gt;#map {position:absolute;top:0;bottom:0;right:0;left:0;}&lt;/style&gt;\n    &lt;script src=&quot;https://cdn.jsdelivr.net/npm/leaflet@1.6.0/dist/leaflet.js&quot;&gt;&lt;/script&gt;\n    &lt;script src=&quot;https://code.jquery.com/jquery-1.12.4.min.js&quot;&gt;&lt;/script&gt;\n    &lt;script src=&quot;https://maxcdn.bootstrapcdn.com/bootstrap/3.2.0/js/bootstrap.min.js&quot;&gt;&lt;/script&gt;\n    &lt;script src=&quot;https://cdnjs.cloudflare.com/ajax/libs/Leaflet.awesome-markers/2.0.2/leaflet.awesome-markers.js&quot;&gt;&lt;/script&gt;\n    &lt;link rel=&quot;stylesheet&quot; href=&quot;https://cdn.jsdelivr.net/npm/leaflet@1.6.0/dist/leaflet.css&quot;/&gt;\n    &lt;link rel=&quot;stylesheet&quot; href=&quot;https://maxcdn.bootstrapcdn.com/bootstrap/3.2.0/css/bootstrap.min.css&quot;/&gt;\n    &lt;link rel=&quot;stylesheet&quot; href=&quot;https://maxcdn.bootstrapcdn.com/bootstrap/3.2.0/css/bootstrap-theme.min.css&quot;/&gt;\n    &lt;link rel=&quot;stylesheet&quot; href=&quot;https://maxcdn.bootstrapcdn.com/font-awesome/4.6.3/css/font-awesome.min.css&quot;/&gt;\n    &lt;link rel=&quot;stylesheet&quot; href=&quot;https://cdnjs.cloudflare.com/ajax/libs/Leaflet.awesome-markers/2.0.2/leaflet.awesome-markers.css&quot;/&gt;\n    &lt;link rel=&quot;stylesheet&quot; href=&quot;https://cdn.jsdelivr.net/gh/python-visualization/folium/folium/templates/leaflet.awesome.rotate.min.css&quot;/&gt;\n    \n            &lt;meta name=&quot;viewport&quot; content=&quot;width=device-width,\n                initial-scale=1.0, maximum-scale=1.0, user-scalable=no&quot; /&gt;\n            &lt;style&gt;\n                #map_021d66b80355c910ce0f45242ca88c44 {\n                    position: relative;\n                    width: 100.0%;\n                    height: 100.0%;\n                    left: 0.0%;\n                    top: 0.0%;\n                }\n            &lt;/style&gt;\n        \n    &lt;script src=&quot;https://cdnjs.cloudflare.com/ajax/libs/leaflet.fullscreen/1.4.2/Control.FullScreen.min.js&quot;&gt;&lt;/script&gt;\n    &lt;link rel=&quot;stylesheet&quot; href=&quot;https://cdnjs.cloudflare.com/ajax/libs/leaflet.fullscreen/1.4.2/Control.FullScreen.min.css&quot;/&gt;\n&lt;/head&gt;\n&lt;body&gt;    \n    \n            &lt;div class=&quot;folium-map&quot; id=&quot;map_021d66b80355c910ce0f45242ca88c44&quot; &gt;&lt;/div&gt;\n        \n&lt;/body&gt;\n&lt;script&gt;    \n    \n            var map_021d66b80355c910ce0f45242ca88c44 = L.map(\n                &quot;map_021d66b80355c910ce0f45242ca88c44&quot;,\n                {\n                    center: [48.8566969, 2.3514616],\n                    crs: L.CRS.EPSG3857,\n                    zoom: 2,\n                    zoomControl: true,\n                    preferCanvas: false,\n                }\n            );\n\n            \n\n        \n    \n            var tile_layer_793a08b3b417dcea50aa982301d8735d = L.tileLayer(\n                &quot;https://{s}.tile.openstreetmap.org/{z}/{x}/{y}.png&quot;,\n                {&quot;attribution&quot;: &quot;Data by \\u0026copy; \\u003ca href=\\&quot;http://openstreetmap.org\\&quot;\\u003eOpenStreetMap\\u003c/a\\u003e, under \\u003ca href=\\&quot;http://www.openstreetmap.org/copyright\\&quot;\\u003eODbL\\u003c/a\\u003e.&quot;, &quot;detectRetina&quot;: false, &quot;maxNativeZoom&quot;: 18, &quot;maxZoom&quot;: 18, &quot;minZoom&quot;: 0, &quot;noWrap&quot;: false, &quot;opacity&quot;: 1, &quot;subdomains&quot;: &quot;abc&quot;, &quot;tms&quot;: false}\n            ).addTo(map_021d66b80355c910ce0f45242ca88c44);\n        \n    \n            var marker_814f1591e7b4163de2f71451352c3de9 = L.marker(\n                [50.1113302, 8.7045469],\n                {}\n            ).addTo(map_021d66b80355c910ce0f45242ca88c44);\n        \n    \n            var icon_fea819b43cfa8c4ad5f46f6ba6bc29e6 = L.AwesomeMarkers.icon(\n                {&quot;extraClasses&quot;: &quot;fa-rotate-0&quot;, &quot;icon&quot;: &quot;cloud&quot;, &quot;iconColor&quot;: &quot;white&quot;, &quot;markerColor&quot;: &quot;lightgray&quot;, &quot;prefix&quot;: &quot;fa&quot;}\n            );\n            marker_814f1591e7b4163de2f71451352c3de9.setIcon(icon_fea819b43cfa8c4ad5f46f6ba6bc29e6);\n        \n    \n        var popup_362705f61602373365a994a47d60a607 = L.popup({&quot;maxWidth&quot;: &quot;100%&quot;});\n\n        \n            var html_ea3b3e129b443da86daf694822335769 = $(`&lt;div id=&quot;html_ea3b3e129b443da86daf694822335769&quot; style=&quot;width: 100.0%; height: 100.0%;&quot;&gt;&lt;h3&gt;EZB&lt;/h3&gt;Adress of the EZB&lt;/div&gt;`)[0];\n            popup_362705f61602373365a994a47d60a607.setContent(html_ea3b3e129b443da86daf694822335769);\n        \n\n        marker_814f1591e7b4163de2f71451352c3de9.bindPopup(popup_362705f61602373365a994a47d60a607)\n        ;\n\n        \n    \n    \n            var marker_e699d77569d61c797e2b5891b1a0d7e7 = L.marker(\n                [60.170329, 24.9532664],\n                {}\n            ).addTo(map_021d66b80355c910ce0f45242ca88c44);\n        \n    \n            var icon_ec4d4302b60b98d8c88eaf599df2e39a = L.AwesomeMarkers.icon(\n                {&quot;extraClasses&quot;: &quot;fa-rotate-0&quot;, &quot;icon&quot;: &quot;user&quot;, &quot;iconColor&quot;: &quot;white&quot;, &quot;markerColor&quot;: &quot;red&quot;, &quot;prefix&quot;: &quot;fa&quot;}\n            );\n            marker_e699d77569d61c797e2b5891b1a0d7e7.setIcon(icon_ec4d4302b60b98d8c88eaf599df2e39a);\n        \n    \n        var popup_5c122ce9746c0cf86d1372d8b4a247b2 = L.popup({&quot;maxWidth&quot;: &quot;100%&quot;});\n\n        \n            var html_1905375f3fd065f472ed05aa18f3078c = $(`&lt;div id=&quot;html_1905375f3fd065f472ed05aa18f3078c&quot; style=&quot;width: 100.0%; height: 100.0%;&quot;&gt;&lt;h3&gt;Suomen Pankki&lt;/h3&gt;Finlands bank&lt;/div&gt;`)[0];\n            popup_5c122ce9746c0cf86d1372d8b4a247b2.setContent(html_1905375f3fd065f472ed05aa18f3078c);\n        \n\n        marker_e699d77569d61c797e2b5891b1a0d7e7.bindPopup(popup_5c122ce9746c0cf86d1372d8b4a247b2)\n        ;\n\n        \n    \n    \n            var marker_c4bd1180c774edc6b9344f26d3ef031c = L.marker(\n                [48.86384, 2.3397793],\n                {}\n            ).addTo(map_021d66b80355c910ce0f45242ca88c44);\n        \n    \n            var icon_ea5bb64c1beeab9dc80daed78068df1c = L.AwesomeMarkers.icon(\n                {&quot;extraClasses&quot;: &quot;fa-rotate-0&quot;, &quot;icon&quot;: &quot;user&quot;, &quot;iconColor&quot;: &quot;white&quot;, &quot;markerColor&quot;: &quot;red&quot;, &quot;prefix&quot;: &quot;fa&quot;}\n            );\n            marker_c4bd1180c774edc6b9344f26d3ef031c.setIcon(icon_ea5bb64c1beeab9dc80daed78068df1c);\n        \n    \n        var popup_b201b49b51d8f8a0d18cafb82f990e0b = L.popup({&quot;maxWidth&quot;: &quot;100%&quot;});\n\n        \n            var html_d4f06c552ae059f7bf55c09c96525079 = $(`&lt;div id=&quot;html_d4f06c552ae059f7bf55c09c96525079&quot; style=&quot;width: 100.0%; height: 100.0%;&quot;&gt;&lt;h3&gt;Banque de France&lt;/h3&gt;Bank of France&lt;/div&gt;`)[0];\n            popup_b201b49b51d8f8a0d18cafb82f990e0b.setContent(html_d4f06c552ae059f7bf55c09c96525079);\n        \n\n        marker_c4bd1180c774edc6b9344f26d3ef031c.bindPopup(popup_b201b49b51d8f8a0d18cafb82f990e0b)\n        ;\n\n        \n    \n    \n            var marker_a992b58d0d738d2e06622ca627cab17b = L.marker(\n                [40.298463, -3.3019204],\n                {}\n            ).addTo(map_021d66b80355c910ce0f45242ca88c44);\n        \n    \n            var icon_24ff587360525cf1c86d67a83e1ca046 = L.AwesomeMarkers.icon(\n                {&quot;extraClasses&quot;: &quot;fa-rotate-0&quot;, &quot;icon&quot;: &quot;user&quot;, &quot;iconColor&quot;: &quot;white&quot;, &quot;markerColor&quot;: &quot;red&quot;, &quot;prefix&quot;: &quot;fa&quot;}\n            );\n            marker_a992b58d0d738d2e06622ca627cab17b.setIcon(icon_24ff587360525cf1c86d67a83e1ca046);\n        \n    \n        var popup_132a840eded208ad3c4fde4a9aac30c5 = L.popup({&quot;maxWidth&quot;: &quot;100%&quot;});\n\n        \n            var html_a2cd54250d15522917ef5e9b9720b16f = $(`&lt;div id=&quot;html_a2cd54250d15522917ef5e9b9720b16f&quot; style=&quot;width: 100.0%; height: 100.0%;&quot;&gt;&lt;h3&gt;Banco de Espana&lt;/h3&gt;Bank of Spain&lt;/div&gt;`)[0];\n            popup_132a840eded208ad3c4fde4a9aac30c5.setContent(html_a2cd54250d15522917ef5e9b9720b16f);\n        \n\n        marker_a992b58d0d738d2e06622ca627cab17b.bindPopup(popup_132a840eded208ad3c4fde4a9aac30c5)\n        ;\n\n        \n    \n    \n            var marker_8c95b9f2e8de8c05d573cedefd1e2276 = L.marker(\n                [37.98486, 23.755946],\n                {}\n            ).addTo(map_021d66b80355c910ce0f45242ca88c44);\n        \n    \n            var icon_9403b1437ba28ea9ba4b80a51832c647 = L.AwesomeMarkers.icon(\n                {&quot;extraClasses&quot;: &quot;fa-rotate-0&quot;, &quot;icon&quot;: &quot;user&quot;, &quot;iconColor&quot;: &quot;white&quot;, &quot;markerColor&quot;: &quot;red&quot;, &quot;prefix&quot;: &quot;fa&quot;}\n            );\n            marker_8c95b9f2e8de8c05d573cedefd1e2276.setIcon(icon_9403b1437ba28ea9ba4b80a51832c647);\n        \n    \n        var popup_9f78ceaa9e29320128edea7efeff0492 = L.popup({&quot;maxWidth&quot;: &quot;100%&quot;});\n\n        \n            var html_06840166d922cd18d684dd745004ce3a = $(`&lt;div id=&quot;html_06840166d922cd18d684dd745004ce3a&quot; style=&quot;width: 100.0%; height: 100.0%;&quot;&gt;&lt;h3&gt;Τράπεζα Της Ελλάδος&lt;/h3&gt;Bank of Greece&lt;/div&gt;`)[0];\n            popup_9f78ceaa9e29320128edea7efeff0492.setContent(html_06840166d922cd18d684dd745004ce3a);\n        \n\n        marker_8c95b9f2e8de8c05d573cedefd1e2276.bindPopup(popup_9f78ceaa9e29320128edea7efeff0492)\n        ;\n\n        \n    \n    \n            L.control.fullscreen(\n                {&quot;forceSeparateButton&quot;: false, &quot;position&quot;: &quot;topleft&quot;, &quot;title&quot;: &quot;Full Screen&quot;, &quot;titleCancel&quot;: &quot;Exit Full Screen&quot;}\n            ).addTo(map_021d66b80355c910ce0f45242ca88c44);\n        \n    \n        function geo_json_fcc8d752a2c127e54754681ae7261f0a_styler(feature) {\n            switch(feature.id) {\n                default:\n                    return {&quot;fillColor&quot;: &quot;orange&quot;};\n            }\n        }\n\n        function geo_json_fcc8d752a2c127e54754681ae7261f0a_onEachFeature(feature, layer) {\n            layer.on({\n            });\n        };\n        var geo_json_fcc8d752a2c127e54754681ae7261f0a = L.geoJson(null, {\n                onEachFeature: geo_json_fcc8d752a2c127e54754681ae7261f0a_onEachFeature,\n            \n                style: geo_json_fcc8d752a2c127e54754681ae7261f0a_styler,\n        });\n\n        function geo_json_fcc8d752a2c127e54754681ae7261f0a_add (data) {\n            geo_json_fcc8d752a2c127e54754681ae7261f0a\n                .addData(data)\n                .addTo(map_021d66b80355c910ce0f45242ca88c44);\n        }\n            geo_json_fcc8d752a2c127e54754681ae7261f0a_add({&quot;bbox&quot;: [8.7045469, 50.1113302, 24.9532664, 60.170329], &quot;features&quot;: [{&quot;bbox&quot;: [8.7045469, 50.1113302, 24.9532664, 60.170329], &quot;geometry&quot;: {&quot;coordinates&quot;: [[24.9532664, 60.170329], [8.7045469, 50.1113302]], &quot;type&quot;: &quot;LineString&quot;}, &quot;id&quot;: &quot;0&quot;, &quot;properties&quot;: {}, &quot;type&quot;: &quot;Feature&quot;}], &quot;type&quot;: &quot;FeatureCollection&quot;});\n\n        \n    \n        var popup_8869bd429c5b8d95bae6be87a7e4a1fd = L.popup({&quot;maxWidth&quot;: &quot;100%&quot;});\n\n        \n            var html_7960a24e7485fb9c38b3d0d55c70cc23 = $(`&lt;div id=&quot;html_7960a24e7485fb9c38b3d0d55c70cc23&quot; style=&quot;width: 100.0%; height: 100.0%;&quot;&gt;Distance: 1517.56 km&lt;/div&gt;`)[0];\n            popup_8869bd429c5b8d95bae6be87a7e4a1fd.setContent(html_7960a24e7485fb9c38b3d0d55c70cc23);\n        \n\n        geo_json_fcc8d752a2c127e54754681ae7261f0a.bindPopup(popup_8869bd429c5b8d95bae6be87a7e4a1fd)\n        ;\n\n        \n    \n    \n        function geo_json_3857c46367f09a615b693b2f24749d3b_styler(feature) {\n            switch(feature.id) {\n                default:\n                    return {&quot;fillColor&quot;: &quot;orange&quot;};\n            }\n        }\n\n        function geo_json_3857c46367f09a615b693b2f24749d3b_onEachFeature(feature, layer) {\n            layer.on({\n            });\n        };\n        var geo_json_3857c46367f09a615b693b2f24749d3b = L.geoJson(null, {\n                onEachFeature: geo_json_3857c46367f09a615b693b2f24749d3b_onEachFeature,\n            \n                style: geo_json_3857c46367f09a615b693b2f24749d3b_styler,\n        });\n\n        function geo_json_3857c46367f09a615b693b2f24749d3b_add (data) {\n            geo_json_3857c46367f09a615b693b2f24749d3b\n                .addData(data)\n                .addTo(map_021d66b80355c910ce0f45242ca88c44);\n        }\n            geo_json_3857c46367f09a615b693b2f24749d3b_add({&quot;bbox&quot;: [2.3397793, 48.86384, 8.7045469, 50.1113302], &quot;features&quot;: [{&quot;bbox&quot;: [2.3397793, 48.86384, 8.7045469, 50.1113302], &quot;geometry&quot;: {&quot;coordinates&quot;: [[2.3397793, 48.86384], [8.7045469, 50.1113302]], &quot;type&quot;: &quot;LineString&quot;}, &quot;id&quot;: &quot;0&quot;, &quot;properties&quot;: {}, &quot;type&quot;: &quot;Feature&quot;}], &quot;type&quot;: &quot;FeatureCollection&quot;});\n\n        \n    \n        var popup_6b5bd6dcf27afdea5d92a18ff93591ea = L.popup({&quot;maxWidth&quot;: &quot;100%&quot;});\n\n        \n            var html_42dddb6d87714fee3786447fa5597dba = $(`&lt;div id=&quot;html_42dddb6d87714fee3786447fa5597dba&quot; style=&quot;width: 100.0%; height: 100.0%;&quot;&gt;Distance: 481.4 km&lt;/div&gt;`)[0];\n            popup_6b5bd6dcf27afdea5d92a18ff93591ea.setContent(html_42dddb6d87714fee3786447fa5597dba);\n        \n\n        geo_json_3857c46367f09a615b693b2f24749d3b.bindPopup(popup_6b5bd6dcf27afdea5d92a18ff93591ea)\n        ;\n\n        \n    \n    \n        function geo_json_ad265c643d72b42cb55b65d0d1eda882_styler(feature) {\n            switch(feature.id) {\n                default:\n                    return {&quot;fillColor&quot;: &quot;orange&quot;};\n            }\n        }\n\n        function geo_json_ad265c643d72b42cb55b65d0d1eda882_onEachFeature(feature, layer) {\n            layer.on({\n            });\n        };\n        var geo_json_ad265c643d72b42cb55b65d0d1eda882 = L.geoJson(null, {\n                onEachFeature: geo_json_ad265c643d72b42cb55b65d0d1eda882_onEachFeature,\n            \n                style: geo_json_ad265c643d72b42cb55b65d0d1eda882_styler,\n        });\n\n        function geo_json_ad265c643d72b42cb55b65d0d1eda882_add (data) {\n            geo_json_ad265c643d72b42cb55b65d0d1eda882\n                .addData(data)\n                .addTo(map_021d66b80355c910ce0f45242ca88c44);\n        }\n            geo_json_ad265c643d72b42cb55b65d0d1eda882_add({&quot;bbox&quot;: [-3.3019204, 40.298463, 8.7045469, 50.1113302], &quot;features&quot;: [{&quot;bbox&quot;: [-3.3019204, 40.298463, 8.7045469, 50.1113302], &quot;geometry&quot;: {&quot;coordinates&quot;: [[-3.3019204, 40.298463], [8.7045469, 50.1113302]], &quot;type&quot;: &quot;LineString&quot;}, &quot;id&quot;: &quot;0&quot;, &quot;properties&quot;: {}, &quot;type&quot;: &quot;Feature&quot;}], &quot;type&quot;: &quot;FeatureCollection&quot;});\n\n        \n    \n        var popup_175770743fe2687b9597cc485e4c545d = L.popup({&quot;maxWidth&quot;: &quot;100%&quot;});\n\n        \n            var html_84ffc6f0697a60047d76eb9afe7c7f2a = $(`&lt;div id=&quot;html_84ffc6f0697a60047d76eb9afe7c7f2a&quot; style=&quot;width: 100.0%; height: 100.0%;&quot;&gt;Distance: 1438.28 km&lt;/div&gt;`)[0];\n            popup_175770743fe2687b9597cc485e4c545d.setContent(html_84ffc6f0697a60047d76eb9afe7c7f2a);\n        \n\n        geo_json_ad265c643d72b42cb55b65d0d1eda882.bindPopup(popup_175770743fe2687b9597cc485e4c545d)\n        ;\n\n        \n    \n    \n        function geo_json_757cb56d0fcf4c0f6fcdf15d78d00fbc_styler(feature) {\n            switch(feature.id) {\n                default:\n                    return {&quot;fillColor&quot;: &quot;orange&quot;};\n            }\n        }\n\n        function geo_json_757cb56d0fcf4c0f6fcdf15d78d00fbc_onEachFeature(feature, layer) {\n            layer.on({\n            });\n        };\n        var geo_json_757cb56d0fcf4c0f6fcdf15d78d00fbc = L.geoJson(null, {\n                onEachFeature: geo_json_757cb56d0fcf4c0f6fcdf15d78d00fbc_onEachFeature,\n            \n                style: geo_json_757cb56d0fcf4c0f6fcdf15d78d00fbc_styler,\n        });\n\n        function geo_json_757cb56d0fcf4c0f6fcdf15d78d00fbc_add (data) {\n            geo_json_757cb56d0fcf4c0f6fcdf15d78d00fbc\n                .addData(data)\n                .addTo(map_021d66b80355c910ce0f45242ca88c44);\n        }\n            geo_json_757cb56d0fcf4c0f6fcdf15d78d00fbc_add({&quot;bbox&quot;: [8.7045469, 37.98486, 23.755946, 50.1113302], &quot;features&quot;: [{&quot;bbox&quot;: [8.7045469, 37.98486, 23.755946, 50.1113302], &quot;geometry&quot;: {&quot;coordinates&quot;: [[23.755946, 37.98486], [8.7045469, 50.1113302]], &quot;type&quot;: &quot;LineString&quot;}, &quot;id&quot;: &quot;0&quot;, &quot;properties&quot;: {}, &quot;type&quot;: &quot;Feature&quot;}], &quot;type&quot;: &quot;FeatureCollection&quot;});\n\n        \n    \n        var popup_4a87080a91cbc2dd650b886d38473951 = L.popup({&quot;maxWidth&quot;: &quot;100%&quot;});\n\n        \n            var html_293e37497ef2dc8098bac2324009e757 = $(`&lt;div id=&quot;html_293e37497ef2dc8098bac2324009e757&quot; style=&quot;width: 100.0%; height: 100.0%;&quot;&gt;Distance: 1801.5877469126472 km&lt;/div&gt;`)[0];\n            popup_4a87080a91cbc2dd650b886d38473951.setContent(html_293e37497ef2dc8098bac2324009e757);\n        \n\n        geo_json_757cb56d0fcf4c0f6fcdf15d78d00fbc.bindPopup(popup_4a87080a91cbc2dd650b886d38473951)\n        ;\n\n        \n    \n&lt;/script&gt;\" style=\"position:absolute;width:100%;height:100%;left:0;top:0;border:none !important;\" allowfullscreen webkitallowfullscreen mozallowfullscreen></iframe></div></div>"
     },
     "execution_count": 3,
     "metadata": {},
     "output_type": "execute_result"
    }
   ],
   "source": [
    "map_folium = folium.Map(location=[48.8566969, 2.3514616], zoom_start=2)\n",
    "connections = pd.read_csv(\"data/connections.csv\", encoding=\"utf8\")\n",
    "for i, v in hosts_df.iterrows():\n",
    "    folium.Marker([v[\"latitude\"], v[\"longitude\"]],\n",
    "                  popup=\"<h3>%s</h3>%s\" % (v[\"name\"], v[\"notes\"]),\n",
    "                  icon = folium.Icon(color=\"lightgray\", icon=\"cloud\", prefix=\"fa\")).add_to(map_folium)\n",
    "lines = []\n",
    "for i, v in clients_df.iterrows():\n",
    "    folium.Marker([v[\"latitude\"], v[\"longitude\"]],\n",
    "                  popup=\"<h3>%s</h3>%s\" % (v[\"name\"], v[\"notes\"]),\n",
    "                  icon = folium.Icon(color=\"red\", icon=\"user\", prefix=\"fa\")).add_to(map_folium)\n",
    "    c = 0\n",
    "    for _, h in connections.loc[connections.client_id == v[\"client_id\"]].iterrows():\n",
    "        for _, host in hosts_df.loc[hosts_df.host_id == h[\"host_id\"]].iterrows():\n",
    "            lines.append((LineString([(v[\"longitude\"], v[\"latitude\"]), \n",
    "                                    (host[\"longitude\"], host[\"latitude\"])]),\n",
    "                          np.round(geodesic((v[\"latitude\"], v[\"longitude\"]),\n",
    "                                   (host[\"latitude\"], host[\"longitude\"])).km, 2)))\n",
    "        c += 1\n",
    "    if c == 0:\n",
    "        distances = [(geodesic((v[\"latitude\"], v[\"longitude\"]),\n",
    "                               (host[\"latitude\"], host[\"longitude\"])).km,\n",
    "                      (host[\"latitude\"], host[\"longitude\"]))\n",
    "                     for _, host in hosts_df.iterrows()]\n",
    "        host = distances[np.argmin([i[0] for i in distances])]\n",
    "        lines.append((LineString([(v[\"longitude\"], v[\"latitude\"]), \n",
    "                                    (host[1][1], host[1][0])]),\n",
    "                      host[0]\n",
    "                     ))\n",
    "\n",
    "\n",
    "folium.plugins.Fullscreen().add_to(map_folium)\n",
    "line_gdf = gpd.GeoDataFrame({'geometry': [l[0] for l in lines], 'distance': [l[1] for l in lines]})\n",
    "# Zur Berechnung der Entfernung:\n",
    "# >>> helsinki = (60.170329, 24.9532664)\n",
    "# >>> frankfurt = (50.1113302, 8.7045469)\n",
    "# >>> geodesic(helsinki, frankfurt).km\n",
    "# 1517.5562305192686\n",
    "\n",
    "\n",
    "for _, r in line_gdf.iterrows():\n",
    "    sim_geo = gpd.GeoSeries(r['geometry']).simplify(tolerance=0.001)\n",
    "    distance = r['distance']\n",
    "    geo_j = sim_geo.to_json()\n",
    "    geo_j = folium.GeoJson(data=geo_j, style_function=lambda x: {'fillColor': 'orange'})\n",
    "    folium.Popup(\"Distance: %s km\" % distance).add_to(geo_j)\n",
    "    geo_j.add_to(map_folium)\n",
    "map_folium.save(\"export/map_visualized.html\")\n",
    "map_folium"
   ]
  },
  {
   "cell_type": "code",
   "execution_count": 3,
   "metadata": {
    "pycharm": {
     "name": "#%%\n"
    }
   },
   "outputs": [],
   "source": []
  }
 ],
 "metadata": {
  "kernelspec": {
   "display_name": "Python 3 (ipykernel)",
   "language": "python",
   "name": "python3"
  },
  "language_info": {
   "codemirror_mode": {
    "name": "ipython",
    "version": 3
   },
   "file_extension": ".py",
   "mimetype": "text/x-python",
   "name": "python",
   "nbconvert_exporter": "python",
   "pygments_lexer": "ipython3",
   "version": "3.8.10"
  }
 },
 "nbformat": 4,
 "nbformat_minor": 4
}