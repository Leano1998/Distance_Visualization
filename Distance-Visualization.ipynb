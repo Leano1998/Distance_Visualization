{
 "cells": [
  {
   "cell_type": "markdown",
   "metadata": {},
   "source": [
    "# Viszualizing Distances on a world map #"
   ]
  },
  {
   "cell_type": "markdown",
   "metadata": {},
   "source": [
    "The information about the locations can be found in the folder \"data\". For the aim of the project, we differntiate between datacenters (hosts) and users (clients). They're saved in csv-files containing the main information. "
   ]
  },
  {
   "cell_type": "code",
   "execution_count": 1,
   "metadata": {},
   "outputs": [],
   "source": [
    "import pandas as pd\n",
    "import numpy as np\n",
    "import folium\n",
    "import folium.plugins\n",
    "import geo_convert\n",
    "from shapely.geometry import LineString\n",
    "import geopandas as gpd\n",
    "from geopy.distance import geodesic"
   ]
  },
  {
   "cell_type": "markdown",
   "metadata": {},
   "source": [
    "The data is imported into pandas dataframe."
   ]
  },
  {
   "cell_type": "code",
   "execution_count": 2,
   "metadata": {},
   "outputs": [
    {
     "name": "stdout",
     "output_type": "stream",
     "text": [
      "                  name     land                       street number    zip  \\\n",
      "0        Suomen Pankki  Finland               Snellmaninkatu      2  00170   \n",
      "1     Banque de France   France  rue Croix des Petits-Champs     31  75001   \n",
      "2      Banco de Espana    Spain                    C/ Alcalá     48  28014   \n",
      "3  Τράπεζα Της Ελλάδος   Greece                El. Venizelou     21  10250   \n",
      "\n",
      "       city           notes   latitude  longitude  \n",
      "0  Helsinki   Finlands bank  60.170329  24.953266  \n",
      "1     Paris  Bank of France  48.863840   2.339779  \n",
      "2    Madrid   Bank of Spain  40.298463  -3.301920  \n",
      "3    Athina  Bank of Greece  37.984860  23.755946  \n",
      "  name     land           street number    zip       city              notes  \\\n",
      "0  EZB  Germany  Sonnemannstraße     22  60314  Frankfurt  Adress of the EZB   \n",
      "\n",
      "   latitude  longitude  \n",
      "0  50.11133   8.704547  \n"
     ]
    }
   ],
   "source": [
    "hosts_df = pd.read_csv(\"data/hosts.csv\", dtype={\"Name\": str, \"land\": str, \"street\": str, \"number\": str, \"zip\": str, \"city\": str})\n",
    "clients_df = pd.read_csv(\"data/clients.csv\", dtype={\"Name\": str, \"land\": str, \"street\": str, \"number\": str, \"zip\": str, \"city\": str})\n",
    "def get_coordinates(df: pd.DataFrame) -> pd.DataFrame:\n",
    "    df = pd.DataFrame(df)\n",
    "    if \"longitude\" not in list(df):\n",
    "        coords = []\n",
    "        for _,v in df.iterrows():\n",
    "            address = {\"street\": v[\"street\"],\n",
    "                   \"number\": v[\"number\"],\n",
    "                   \"city\": v[\"city\"],\n",
    "                   \"country\": v[\"land\"],\n",
    "                   \"zip_code\": v[\"zip\"]}\n",
    "            coords.append(geo_convert.geocode_address(address))\n",
    "        df[\"latitude\"] = pd.Series([i[0] for i in coords])\n",
    "        df[\"longitude\"] = pd.Series([i[1] for i in coords])\n",
    "    return df\n",
    "\n",
    "clients_df = get_coordinates(clients_df)\n",
    "clients_df.to_csv(\"data/clients.csv\", index=False, encoding=\"utf8\")\n",
    "hosts_df = get_coordinates(hosts_df)\n",
    "hosts_df.to_csv(\"data/hosts.csv\", index=False, encoding=\"utf8\")\n",
    "print(clients_df)\n",
    "print(hosts_df)"
   ]
  },
  {
   "cell_type": "markdown",
   "metadata": {},
   "source": [
    "We have now imported the data and looked up the geo-data. In the folowing part, the informations will be visualized on a map."
   ]
  },
  {
   "cell_type": "code",
   "execution_count": 4,
   "metadata": {},
   "outputs": [
    {
     "data": {
      "text/html": [
       "<div style=\"width:100%;\"><div style=\"position:relative;width:100%;height:0;padding-bottom:60%;\"><span style=\"color:#565656\">Make this Notebook Trusted to load map: File -> Trust Notebook</span><iframe src=\"about:blank\" style=\"position:absolute;width:100%;height:100%;left:0;top:0;border:none !important;\" data-html=%3C%21DOCTYPE%20html%3E%0A%3Chead%3E%20%20%20%20%0A%20%20%20%20%3Cmeta%20http-equiv%3D%22content-type%22%20content%3D%22text/html%3B%20charset%3DUTF-8%22%20/%3E%0A%20%20%20%20%0A%20%20%20%20%20%20%20%20%3Cscript%3E%0A%20%20%20%20%20%20%20%20%20%20%20%20L_NO_TOUCH%20%3D%20false%3B%0A%20%20%20%20%20%20%20%20%20%20%20%20L_DISABLE_3D%20%3D%20false%3B%0A%20%20%20%20%20%20%20%20%3C/script%3E%0A%20%20%20%20%0A%20%20%20%20%3Cstyle%3Ehtml%2C%20body%20%7Bwidth%3A%20100%25%3Bheight%3A%20100%25%3Bmargin%3A%200%3Bpadding%3A%200%3B%7D%3C/style%3E%0A%20%20%20%20%3Cstyle%3E%23map%20%7Bposition%3Aabsolute%3Btop%3A0%3Bbottom%3A0%3Bright%3A0%3Bleft%3A0%3B%7D%3C/style%3E%0A%20%20%20%20%3Cscript%20src%3D%22https%3A//cdn.jsdelivr.net/npm/leaflet%401.6.0/dist/leaflet.js%22%3E%3C/script%3E%0A%20%20%20%20%3Cscript%20src%3D%22https%3A//code.jquery.com/jquery-1.12.4.min.js%22%3E%3C/script%3E%0A%20%20%20%20%3Cscript%20src%3D%22https%3A//maxcdn.bootstrapcdn.com/bootstrap/3.2.0/js/bootstrap.min.js%22%3E%3C/script%3E%0A%20%20%20%20%3Cscript%20src%3D%22https%3A//cdnjs.cloudflare.com/ajax/libs/Leaflet.awesome-markers/2.0.2/leaflet.awesome-markers.js%22%3E%3C/script%3E%0A%20%20%20%20%3Clink%20rel%3D%22stylesheet%22%20href%3D%22https%3A//cdn.jsdelivr.net/npm/leaflet%401.6.0/dist/leaflet.css%22/%3E%0A%20%20%20%20%3Clink%20rel%3D%22stylesheet%22%20href%3D%22https%3A//maxcdn.bootstrapcdn.com/bootstrap/3.2.0/css/bootstrap.min.css%22/%3E%0A%20%20%20%20%3Clink%20rel%3D%22stylesheet%22%20href%3D%22https%3A//maxcdn.bootstrapcdn.com/bootstrap/3.2.0/css/bootstrap-theme.min.css%22/%3E%0A%20%20%20%20%3Clink%20rel%3D%22stylesheet%22%20href%3D%22https%3A//maxcdn.bootstrapcdn.com/font-awesome/4.6.3/css/font-awesome.min.css%22/%3E%0A%20%20%20%20%3Clink%20rel%3D%22stylesheet%22%20href%3D%22https%3A//cdnjs.cloudflare.com/ajax/libs/Leaflet.awesome-markers/2.0.2/leaflet.awesome-markers.css%22/%3E%0A%20%20%20%20%3Clink%20rel%3D%22stylesheet%22%20href%3D%22https%3A//cdn.jsdelivr.net/gh/python-visualization/folium/folium/templates/leaflet.awesome.rotate.min.css%22/%3E%0A%20%20%20%20%0A%20%20%20%20%20%20%20%20%20%20%20%20%3Cmeta%20name%3D%22viewport%22%20content%3D%22width%3Ddevice-width%2C%0A%20%20%20%20%20%20%20%20%20%20%20%20%20%20%20%20initial-scale%3D1.0%2C%20maximum-scale%3D1.0%2C%20user-scalable%3Dno%22%20/%3E%0A%20%20%20%20%20%20%20%20%20%20%20%20%3Cstyle%3E%0A%20%20%20%20%20%20%20%20%20%20%20%20%20%20%20%20%23map_743c54dbc99c41d693245ed287743010%20%7B%0A%20%20%20%20%20%20%20%20%20%20%20%20%20%20%20%20%20%20%20%20position%3A%20relative%3B%0A%20%20%20%20%20%20%20%20%20%20%20%20%20%20%20%20%20%20%20%20width%3A%20100.0%25%3B%0A%20%20%20%20%20%20%20%20%20%20%20%20%20%20%20%20%20%20%20%20height%3A%20100.0%25%3B%0A%20%20%20%20%20%20%20%20%20%20%20%20%20%20%20%20%20%20%20%20left%3A%200.0%25%3B%0A%20%20%20%20%20%20%20%20%20%20%20%20%20%20%20%20%20%20%20%20top%3A%200.0%25%3B%0A%20%20%20%20%20%20%20%20%20%20%20%20%20%20%20%20%7D%0A%20%20%20%20%20%20%20%20%20%20%20%20%3C/style%3E%0A%20%20%20%20%20%20%20%20%0A%20%20%20%20%3Cscript%20src%3D%22https%3A//cdnjs.cloudflare.com/ajax/libs/leaflet.fullscreen/1.4.2/Control.FullScreen.min.js%22%3E%3C/script%3E%0A%20%20%20%20%3Clink%20rel%3D%22stylesheet%22%20href%3D%22https%3A//cdnjs.cloudflare.com/ajax/libs/leaflet.fullscreen/1.4.2/Control.FullScreen.min.css%22/%3E%0A%3C/head%3E%0A%3Cbody%3E%20%20%20%20%0A%20%20%20%20%0A%20%20%20%20%20%20%20%20%20%20%20%20%3Cdiv%20class%3D%22folium-map%22%20id%3D%22map_743c54dbc99c41d693245ed287743010%22%20%3E%3C/div%3E%0A%20%20%20%20%20%20%20%20%0A%3C/body%3E%0A%3Cscript%3E%20%20%20%20%0A%20%20%20%20%0A%20%20%20%20%20%20%20%20%20%20%20%20var%20map_743c54dbc99c41d693245ed287743010%20%3D%20L.map%28%0A%20%20%20%20%20%20%20%20%20%20%20%20%20%20%20%20%22map_743c54dbc99c41d693245ed287743010%22%2C%0A%20%20%20%20%20%20%20%20%20%20%20%20%20%20%20%20%7B%0A%20%20%20%20%20%20%20%20%20%20%20%20%20%20%20%20%20%20%20%20center%3A%20%5B48.8566969%2C%202.3514616%5D%2C%0A%20%20%20%20%20%20%20%20%20%20%20%20%20%20%20%20%20%20%20%20crs%3A%20L.CRS.EPSG3857%2C%0A%20%20%20%20%20%20%20%20%20%20%20%20%20%20%20%20%20%20%20%20zoom%3A%202%2C%0A%20%20%20%20%20%20%20%20%20%20%20%20%20%20%20%20%20%20%20%20zoomControl%3A%20true%2C%0A%20%20%20%20%20%20%20%20%20%20%20%20%20%20%20%20%20%20%20%20preferCanvas%3A%20false%2C%0A%20%20%20%20%20%20%20%20%20%20%20%20%20%20%20%20%7D%0A%20%20%20%20%20%20%20%20%20%20%20%20%29%3B%0A%0A%20%20%20%20%20%20%20%20%20%20%20%20%0A%0A%20%20%20%20%20%20%20%20%0A%20%20%20%20%0A%20%20%20%20%20%20%20%20%20%20%20%20var%20tile_layer_7d30e2b35eb44f4fbdd69259ce803d10%20%3D%20L.tileLayer%28%0A%20%20%20%20%20%20%20%20%20%20%20%20%20%20%20%20%22https%3A//%7Bs%7D.tile.openstreetmap.org/%7Bz%7D/%7Bx%7D/%7By%7D.png%22%2C%0A%20%20%20%20%20%20%20%20%20%20%20%20%20%20%20%20%7B%22attribution%22%3A%20%22Data%20by%20%5Cu0026copy%3B%20%5Cu003ca%20href%3D%5C%22http%3A//openstreetmap.org%5C%22%5Cu003eOpenStreetMap%5Cu003c/a%5Cu003e%2C%20under%20%5Cu003ca%20href%3D%5C%22http%3A//www.openstreetmap.org/copyright%5C%22%5Cu003eODbL%5Cu003c/a%5Cu003e.%22%2C%20%22detectRetina%22%3A%20false%2C%20%22maxNativeZoom%22%3A%2018%2C%20%22maxZoom%22%3A%2018%2C%20%22minZoom%22%3A%200%2C%20%22noWrap%22%3A%20false%2C%20%22opacity%22%3A%201%2C%20%22subdomains%22%3A%20%22abc%22%2C%20%22tms%22%3A%20false%7D%0A%20%20%20%20%20%20%20%20%20%20%20%20%29.addTo%28map_743c54dbc99c41d693245ed287743010%29%3B%0A%20%20%20%20%20%20%20%20%0A%20%20%20%20%0A%20%20%20%20%20%20%20%20%20%20%20%20var%20marker_2f6edbcdf4774aa9a5ccc97434b2a5ba%20%3D%20L.marker%28%0A%20%20%20%20%20%20%20%20%20%20%20%20%20%20%20%20%5B50.1113302%2C%208.7045469%5D%2C%0A%20%20%20%20%20%20%20%20%20%20%20%20%20%20%20%20%7B%7D%0A%20%20%20%20%20%20%20%20%20%20%20%20%29.addTo%28map_743c54dbc99c41d693245ed287743010%29%3B%0A%20%20%20%20%20%20%20%20%0A%20%20%20%20%0A%20%20%20%20%20%20%20%20%20%20%20%20var%20icon_f88daac4b39041afbf4e02d19b419cbd%20%3D%20L.AwesomeMarkers.icon%28%0A%20%20%20%20%20%20%20%20%20%20%20%20%20%20%20%20%7B%22extraClasses%22%3A%20%22fa-rotate-0%22%2C%20%22icon%22%3A%20%22cloud%22%2C%20%22iconColor%22%3A%20%22white%22%2C%20%22markerColor%22%3A%20%22lightgray%22%2C%20%22prefix%22%3A%20%22fa%22%7D%0A%20%20%20%20%20%20%20%20%20%20%20%20%29%3B%0A%20%20%20%20%20%20%20%20%20%20%20%20marker_2f6edbcdf4774aa9a5ccc97434b2a5ba.setIcon%28icon_f88daac4b39041afbf4e02d19b419cbd%29%3B%0A%20%20%20%20%20%20%20%20%0A%20%20%20%20%0A%20%20%20%20%20%20%20%20var%20popup_9a444dcb15704110a01d1f8778bf146b%20%3D%20L.popup%28%7B%22maxWidth%22%3A%20%22100%25%22%7D%29%3B%0A%0A%20%20%20%20%20%20%20%20%0A%20%20%20%20%20%20%20%20%20%20%20%20var%20html_5ca6fcc111734f19a12e3b52d5e27634%20%3D%20%24%28%60%3Cdiv%20id%3D%22html_5ca6fcc111734f19a12e3b52d5e27634%22%20style%3D%22width%3A%20100.0%25%3B%20height%3A%20100.0%25%3B%22%3E%3Ch3%3EEZB%3C/h3%3EAdress%20of%20the%20EZB%3C/div%3E%60%29%5B0%5D%3B%0A%20%20%20%20%20%20%20%20%20%20%20%20popup_9a444dcb15704110a01d1f8778bf146b.setContent%28html_5ca6fcc111734f19a12e3b52d5e27634%29%3B%0A%20%20%20%20%20%20%20%20%0A%0A%20%20%20%20%20%20%20%20marker_2f6edbcdf4774aa9a5ccc97434b2a5ba.bindPopup%28popup_9a444dcb15704110a01d1f8778bf146b%29%0A%20%20%20%20%20%20%20%20%3B%0A%0A%20%20%20%20%20%20%20%20%0A%20%20%20%20%0A%20%20%20%20%0A%20%20%20%20%20%20%20%20%20%20%20%20var%20marker_ae8fdee4c0b14862a0fbbb877c5c415a%20%3D%20L.marker%28%0A%20%20%20%20%20%20%20%20%20%20%20%20%20%20%20%20%5B60.170329%2C%2024.9532664%5D%2C%0A%20%20%20%20%20%20%20%20%20%20%20%20%20%20%20%20%7B%7D%0A%20%20%20%20%20%20%20%20%20%20%20%20%29.addTo%28map_743c54dbc99c41d693245ed287743010%29%3B%0A%20%20%20%20%20%20%20%20%0A%20%20%20%20%0A%20%20%20%20%20%20%20%20%20%20%20%20var%20icon_3aa63f8bcd0d4206801c7d18fef52098%20%3D%20L.AwesomeMarkers.icon%28%0A%20%20%20%20%20%20%20%20%20%20%20%20%20%20%20%20%7B%22extraClasses%22%3A%20%22fa-rotate-0%22%2C%20%22icon%22%3A%20%22user%22%2C%20%22iconColor%22%3A%20%22white%22%2C%20%22markerColor%22%3A%20%22red%22%2C%20%22prefix%22%3A%20%22fa%22%7D%0A%20%20%20%20%20%20%20%20%20%20%20%20%29%3B%0A%20%20%20%20%20%20%20%20%20%20%20%20marker_ae8fdee4c0b14862a0fbbb877c5c415a.setIcon%28icon_3aa63f8bcd0d4206801c7d18fef52098%29%3B%0A%20%20%20%20%20%20%20%20%0A%20%20%20%20%0A%20%20%20%20%20%20%20%20var%20popup_82c29c67d71f4a85ac98c3b5c4446042%20%3D%20L.popup%28%7B%22maxWidth%22%3A%20%22100%25%22%7D%29%3B%0A%0A%20%20%20%20%20%20%20%20%0A%20%20%20%20%20%20%20%20%20%20%20%20var%20html_2cfcb2f5193c4aee99a8f416f4a3383c%20%3D%20%24%28%60%3Cdiv%20id%3D%22html_2cfcb2f5193c4aee99a8f416f4a3383c%22%20style%3D%22width%3A%20100.0%25%3B%20height%3A%20100.0%25%3B%22%3E%3Ch3%3ESuomen%20Pankki%3C/h3%3EFinlands%20bank%3C/div%3E%60%29%5B0%5D%3B%0A%20%20%20%20%20%20%20%20%20%20%20%20popup_82c29c67d71f4a85ac98c3b5c4446042.setContent%28html_2cfcb2f5193c4aee99a8f416f4a3383c%29%3B%0A%20%20%20%20%20%20%20%20%0A%0A%20%20%20%20%20%20%20%20marker_ae8fdee4c0b14862a0fbbb877c5c415a.bindPopup%28popup_82c29c67d71f4a85ac98c3b5c4446042%29%0A%20%20%20%20%20%20%20%20%3B%0A%0A%20%20%20%20%20%20%20%20%0A%20%20%20%20%0A%20%20%20%20%0A%20%20%20%20%20%20%20%20%20%20%20%20var%20marker_c5ec5f96f2504c999e10835d92af3d26%20%3D%20L.marker%28%0A%20%20%20%20%20%20%20%20%20%20%20%20%20%20%20%20%5B48.86384%2C%202.3397793%5D%2C%0A%20%20%20%20%20%20%20%20%20%20%20%20%20%20%20%20%7B%7D%0A%20%20%20%20%20%20%20%20%20%20%20%20%29.addTo%28map_743c54dbc99c41d693245ed287743010%29%3B%0A%20%20%20%20%20%20%20%20%0A%20%20%20%20%0A%20%20%20%20%20%20%20%20%20%20%20%20var%20icon_9f450fc99d7444eba189be4ee932e7e3%20%3D%20L.AwesomeMarkers.icon%28%0A%20%20%20%20%20%20%20%20%20%20%20%20%20%20%20%20%7B%22extraClasses%22%3A%20%22fa-rotate-0%22%2C%20%22icon%22%3A%20%22user%22%2C%20%22iconColor%22%3A%20%22white%22%2C%20%22markerColor%22%3A%20%22red%22%2C%20%22prefix%22%3A%20%22fa%22%7D%0A%20%20%20%20%20%20%20%20%20%20%20%20%29%3B%0A%20%20%20%20%20%20%20%20%20%20%20%20marker_c5ec5f96f2504c999e10835d92af3d26.setIcon%28icon_9f450fc99d7444eba189be4ee932e7e3%29%3B%0A%20%20%20%20%20%20%20%20%0A%20%20%20%20%0A%20%20%20%20%20%20%20%20var%20popup_cb54d9b67c12482e9156af08b1bb4e00%20%3D%20L.popup%28%7B%22maxWidth%22%3A%20%22100%25%22%7D%29%3B%0A%0A%20%20%20%20%20%20%20%20%0A%20%20%20%20%20%20%20%20%20%20%20%20var%20html_1626b9619f9a4c82bafa831e2ac74487%20%3D%20%24%28%60%3Cdiv%20id%3D%22html_1626b9619f9a4c82bafa831e2ac74487%22%20style%3D%22width%3A%20100.0%25%3B%20height%3A%20100.0%25%3B%22%3E%3Ch3%3EBanque%20de%20France%3C/h3%3EBank%20of%20France%3C/div%3E%60%29%5B0%5D%3B%0A%20%20%20%20%20%20%20%20%20%20%20%20popup_cb54d9b67c12482e9156af08b1bb4e00.setContent%28html_1626b9619f9a4c82bafa831e2ac74487%29%3B%0A%20%20%20%20%20%20%20%20%0A%0A%20%20%20%20%20%20%20%20marker_c5ec5f96f2504c999e10835d92af3d26.bindPopup%28popup_cb54d9b67c12482e9156af08b1bb4e00%29%0A%20%20%20%20%20%20%20%20%3B%0A%0A%20%20%20%20%20%20%20%20%0A%20%20%20%20%0A%20%20%20%20%0A%20%20%20%20%20%20%20%20%20%20%20%20var%20marker_147c0ea9e22e44e399433966c5018272%20%3D%20L.marker%28%0A%20%20%20%20%20%20%20%20%20%20%20%20%20%20%20%20%5B40.298463%2C%20-3.3019204%5D%2C%0A%20%20%20%20%20%20%20%20%20%20%20%20%20%20%20%20%7B%7D%0A%20%20%20%20%20%20%20%20%20%20%20%20%29.addTo%28map_743c54dbc99c41d693245ed287743010%29%3B%0A%20%20%20%20%20%20%20%20%0A%20%20%20%20%0A%20%20%20%20%20%20%20%20%20%20%20%20var%20icon_b26cbf0b025a44fdb5131690d482944e%20%3D%20L.AwesomeMarkers.icon%28%0A%20%20%20%20%20%20%20%20%20%20%20%20%20%20%20%20%7B%22extraClasses%22%3A%20%22fa-rotate-0%22%2C%20%22icon%22%3A%20%22user%22%2C%20%22iconColor%22%3A%20%22white%22%2C%20%22markerColor%22%3A%20%22red%22%2C%20%22prefix%22%3A%20%22fa%22%7D%0A%20%20%20%20%20%20%20%20%20%20%20%20%29%3B%0A%20%20%20%20%20%20%20%20%20%20%20%20marker_147c0ea9e22e44e399433966c5018272.setIcon%28icon_b26cbf0b025a44fdb5131690d482944e%29%3B%0A%20%20%20%20%20%20%20%20%0A%20%20%20%20%0A%20%20%20%20%20%20%20%20var%20popup_145ff66f4cd6400ea4cba46255770dbe%20%3D%20L.popup%28%7B%22maxWidth%22%3A%20%22100%25%22%7D%29%3B%0A%0A%20%20%20%20%20%20%20%20%0A%20%20%20%20%20%20%20%20%20%20%20%20var%20html_ee8075ab2a6c41c1b0303db05b7343c3%20%3D%20%24%28%60%3Cdiv%20id%3D%22html_ee8075ab2a6c41c1b0303db05b7343c3%22%20style%3D%22width%3A%20100.0%25%3B%20height%3A%20100.0%25%3B%22%3E%3Ch3%3EBanco%20de%20Espana%3C/h3%3EBank%20of%20Spain%3C/div%3E%60%29%5B0%5D%3B%0A%20%20%20%20%20%20%20%20%20%20%20%20popup_145ff66f4cd6400ea4cba46255770dbe.setContent%28html_ee8075ab2a6c41c1b0303db05b7343c3%29%3B%0A%20%20%20%20%20%20%20%20%0A%0A%20%20%20%20%20%20%20%20marker_147c0ea9e22e44e399433966c5018272.bindPopup%28popup_145ff66f4cd6400ea4cba46255770dbe%29%0A%20%20%20%20%20%20%20%20%3B%0A%0A%20%20%20%20%20%20%20%20%0A%20%20%20%20%0A%20%20%20%20%0A%20%20%20%20%20%20%20%20%20%20%20%20var%20marker_bbfaa4b969834a63aff16ceb86f8175b%20%3D%20L.marker%28%0A%20%20%20%20%20%20%20%20%20%20%20%20%20%20%20%20%5B37.98486%2C%2023.755946%5D%2C%0A%20%20%20%20%20%20%20%20%20%20%20%20%20%20%20%20%7B%7D%0A%20%20%20%20%20%20%20%20%20%20%20%20%29.addTo%28map_743c54dbc99c41d693245ed287743010%29%3B%0A%20%20%20%20%20%20%20%20%0A%20%20%20%20%0A%20%20%20%20%20%20%20%20%20%20%20%20var%20icon_ece51f774a1d453f81407048c29ae90e%20%3D%20L.AwesomeMarkers.icon%28%0A%20%20%20%20%20%20%20%20%20%20%20%20%20%20%20%20%7B%22extraClasses%22%3A%20%22fa-rotate-0%22%2C%20%22icon%22%3A%20%22user%22%2C%20%22iconColor%22%3A%20%22white%22%2C%20%22markerColor%22%3A%20%22red%22%2C%20%22prefix%22%3A%20%22fa%22%7D%0A%20%20%20%20%20%20%20%20%20%20%20%20%29%3B%0A%20%20%20%20%20%20%20%20%20%20%20%20marker_bbfaa4b969834a63aff16ceb86f8175b.setIcon%28icon_ece51f774a1d453f81407048c29ae90e%29%3B%0A%20%20%20%20%20%20%20%20%0A%20%20%20%20%0A%20%20%20%20%20%20%20%20var%20popup_24810a7fcba44c15b028b9b989af6386%20%3D%20L.popup%28%7B%22maxWidth%22%3A%20%22100%25%22%7D%29%3B%0A%0A%20%20%20%20%20%20%20%20%0A%20%20%20%20%20%20%20%20%20%20%20%20var%20html_2ad670a5fe17462e8663ab578de1e8cc%20%3D%20%24%28%60%3Cdiv%20id%3D%22html_2ad670a5fe17462e8663ab578de1e8cc%22%20style%3D%22width%3A%20100.0%25%3B%20height%3A%20100.0%25%3B%22%3E%3Ch3%3E%CE%A4%CF%81%CE%AC%CF%80%CE%B5%CE%B6%CE%B1%20%CE%A4%CE%B7%CF%82%20%CE%95%CE%BB%CE%BB%CE%AC%CE%B4%CE%BF%CF%82%3C/h3%3EBank%20of%20Greece%3C/div%3E%60%29%5B0%5D%3B%0A%20%20%20%20%20%20%20%20%20%20%20%20popup_24810a7fcba44c15b028b9b989af6386.setContent%28html_2ad670a5fe17462e8663ab578de1e8cc%29%3B%0A%20%20%20%20%20%20%20%20%0A%0A%20%20%20%20%20%20%20%20marker_bbfaa4b969834a63aff16ceb86f8175b.bindPopup%28popup_24810a7fcba44c15b028b9b989af6386%29%0A%20%20%20%20%20%20%20%20%3B%0A%0A%20%20%20%20%20%20%20%20%0A%20%20%20%20%0A%20%20%20%20%0A%20%20%20%20%20%20%20%20%20%20%20%20L.control.fullscreen%28%0A%20%20%20%20%20%20%20%20%20%20%20%20%20%20%20%20%7B%22forceSeparateButton%22%3A%20false%2C%20%22position%22%3A%20%22topleft%22%2C%20%22title%22%3A%20%22Full%20Screen%22%2C%20%22titleCancel%22%3A%20%22Exit%20Full%20Screen%22%7D%0A%20%20%20%20%20%20%20%20%20%20%20%20%29.addTo%28map_743c54dbc99c41d693245ed287743010%29%3B%0A%20%20%20%20%20%20%20%20%0A%20%20%20%20%0A%20%20%20%20%20%20%20%20function%20geo_json_9af6bbbfcd864a1ea02735c56224833d_styler%28feature%29%20%7B%0A%20%20%20%20%20%20%20%20%20%20%20%20switch%28feature.id%29%20%7B%0A%20%20%20%20%20%20%20%20%20%20%20%20%20%20%20%20default%3A%0A%20%20%20%20%20%20%20%20%20%20%20%20%20%20%20%20%20%20%20%20return%20%7B%22fillColor%22%3A%20%22orange%22%7D%3B%0A%20%20%20%20%20%20%20%20%20%20%20%20%7D%0A%20%20%20%20%20%20%20%20%7D%0A%0A%20%20%20%20%20%20%20%20function%20geo_json_9af6bbbfcd864a1ea02735c56224833d_onEachFeature%28feature%2C%20layer%29%20%7B%0A%20%20%20%20%20%20%20%20%20%20%20%20layer.on%28%7B%0A%20%20%20%20%20%20%20%20%20%20%20%20%7D%29%3B%0A%20%20%20%20%20%20%20%20%7D%3B%0A%20%20%20%20%20%20%20%20var%20geo_json_9af6bbbfcd864a1ea02735c56224833d%20%3D%20L.geoJson%28null%2C%20%7B%0A%20%20%20%20%20%20%20%20%20%20%20%20%20%20%20%20onEachFeature%3A%20geo_json_9af6bbbfcd864a1ea02735c56224833d_onEachFeature%2C%0A%20%20%20%20%20%20%20%20%20%20%20%20%0A%20%20%20%20%20%20%20%20%20%20%20%20%20%20%20%20style%3A%20geo_json_9af6bbbfcd864a1ea02735c56224833d_styler%2C%0A%20%20%20%20%20%20%20%20%7D%29%3B%0A%0A%20%20%20%20%20%20%20%20function%20geo_json_9af6bbbfcd864a1ea02735c56224833d_add%20%28data%29%20%7B%0A%20%20%20%20%20%20%20%20%20%20%20%20geo_json_9af6bbbfcd864a1ea02735c56224833d%0A%20%20%20%20%20%20%20%20%20%20%20%20%20%20%20%20.addData%28data%29%0A%20%20%20%20%20%20%20%20%20%20%20%20%20%20%20%20.addTo%28map_743c54dbc99c41d693245ed287743010%29%3B%0A%20%20%20%20%20%20%20%20%7D%0A%20%20%20%20%20%20%20%20%20%20%20%20geo_json_9af6bbbfcd864a1ea02735c56224833d_add%28%7B%22bbox%22%3A%20%5B8.7045469%2C%2050.1113302%2C%2024.9532664%2C%2060.170329%5D%2C%20%22features%22%3A%20%5B%7B%22bbox%22%3A%20%5B8.7045469%2C%2050.1113302%2C%2024.9532664%2C%2060.170329%5D%2C%20%22geometry%22%3A%20%7B%22coordinates%22%3A%20%5B%5B24.9532664%2C%2060.170329%5D%2C%20%5B8.7045469%2C%2050.1113302%5D%5D%2C%20%22type%22%3A%20%22LineString%22%7D%2C%20%22id%22%3A%20%220%22%2C%20%22properties%22%3A%20%7B%7D%2C%20%22type%22%3A%20%22Feature%22%7D%5D%2C%20%22type%22%3A%20%22FeatureCollection%22%7D%29%3B%0A%0A%20%20%20%20%20%20%20%20%0A%20%20%20%20%0A%20%20%20%20%20%20%20%20var%20popup_b29f8cb2ca994311ab739377aa3d19ca%20%3D%20L.popup%28%7B%22maxWidth%22%3A%20%22100%25%22%7D%29%3B%0A%0A%20%20%20%20%20%20%20%20%0A%20%20%20%20%20%20%20%20%20%20%20%20var%20html_084debac8e8945409a6652da58de5a9b%20%3D%20%24%28%60%3Cdiv%20id%3D%22html_084debac8e8945409a6652da58de5a9b%22%20style%3D%22width%3A%20100.0%25%3B%20height%3A%20100.0%25%3B%22%3EDistance%3A%201517.5562305192686%20km%3C/div%3E%60%29%5B0%5D%3B%0A%20%20%20%20%20%20%20%20%20%20%20%20popup_b29f8cb2ca994311ab739377aa3d19ca.setContent%28html_084debac8e8945409a6652da58de5a9b%29%3B%0A%20%20%20%20%20%20%20%20%0A%0A%20%20%20%20%20%20%20%20geo_json_9af6bbbfcd864a1ea02735c56224833d.bindPopup%28popup_b29f8cb2ca994311ab739377aa3d19ca%29%0A%20%20%20%20%20%20%20%20%3B%0A%0A%20%20%20%20%20%20%20%20%0A%20%20%20%20%0A%20%20%20%20%0A%20%20%20%20%20%20%20%20function%20geo_json_4f3b45eb2fe14b81be2b4f25ade6fdde_styler%28feature%29%20%7B%0A%20%20%20%20%20%20%20%20%20%20%20%20switch%28feature.id%29%20%7B%0A%20%20%20%20%20%20%20%20%20%20%20%20%20%20%20%20default%3A%0A%20%20%20%20%20%20%20%20%20%20%20%20%20%20%20%20%20%20%20%20return%20%7B%22fillColor%22%3A%20%22orange%22%7D%3B%0A%20%20%20%20%20%20%20%20%20%20%20%20%7D%0A%20%20%20%20%20%20%20%20%7D%0A%0A%20%20%20%20%20%20%20%20function%20geo_json_4f3b45eb2fe14b81be2b4f25ade6fdde_onEachFeature%28feature%2C%20layer%29%20%7B%0A%20%20%20%20%20%20%20%20%20%20%20%20layer.on%28%7B%0A%20%20%20%20%20%20%20%20%20%20%20%20%7D%29%3B%0A%20%20%20%20%20%20%20%20%7D%3B%0A%20%20%20%20%20%20%20%20var%20geo_json_4f3b45eb2fe14b81be2b4f25ade6fdde%20%3D%20L.geoJson%28null%2C%20%7B%0A%20%20%20%20%20%20%20%20%20%20%20%20%20%20%20%20onEachFeature%3A%20geo_json_4f3b45eb2fe14b81be2b4f25ade6fdde_onEachFeature%2C%0A%20%20%20%20%20%20%20%20%20%20%20%20%0A%20%20%20%20%20%20%20%20%20%20%20%20%20%20%20%20style%3A%20geo_json_4f3b45eb2fe14b81be2b4f25ade6fdde_styler%2C%0A%20%20%20%20%20%20%20%20%7D%29%3B%0A%0A%20%20%20%20%20%20%20%20function%20geo_json_4f3b45eb2fe14b81be2b4f25ade6fdde_add%20%28data%29%20%7B%0A%20%20%20%20%20%20%20%20%20%20%20%20geo_json_4f3b45eb2fe14b81be2b4f25ade6fdde%0A%20%20%20%20%20%20%20%20%20%20%20%20%20%20%20%20.addData%28data%29%0A%20%20%20%20%20%20%20%20%20%20%20%20%20%20%20%20.addTo%28map_743c54dbc99c41d693245ed287743010%29%3B%0A%20%20%20%20%20%20%20%20%7D%0A%20%20%20%20%20%20%20%20%20%20%20%20geo_json_4f3b45eb2fe14b81be2b4f25ade6fdde_add%28%7B%22bbox%22%3A%20%5B2.3397793%2C%2048.86384%2C%208.7045469%2C%2050.1113302%5D%2C%20%22features%22%3A%20%5B%7B%22bbox%22%3A%20%5B2.3397793%2C%2048.86384%2C%208.7045469%2C%2050.1113302%5D%2C%20%22geometry%22%3A%20%7B%22coordinates%22%3A%20%5B%5B2.3397793%2C%2048.86384%5D%2C%20%5B8.7045469%2C%2050.1113302%5D%5D%2C%20%22type%22%3A%20%22LineString%22%7D%2C%20%22id%22%3A%20%220%22%2C%20%22properties%22%3A%20%7B%7D%2C%20%22type%22%3A%20%22Feature%22%7D%5D%2C%20%22type%22%3A%20%22FeatureCollection%22%7D%29%3B%0A%0A%20%20%20%20%20%20%20%20%0A%20%20%20%20%0A%20%20%20%20%20%20%20%20var%20popup_bf25c76aa49e43aba2588f8e42ff6276%20%3D%20L.popup%28%7B%22maxWidth%22%3A%20%22100%25%22%7D%29%3B%0A%0A%20%20%20%20%20%20%20%20%0A%20%20%20%20%20%20%20%20%20%20%20%20var%20html_0b9c6696a0e54274a9a2e1adc885d1c7%20%3D%20%24%28%60%3Cdiv%20id%3D%22html_0b9c6696a0e54274a9a2e1adc885d1c7%22%20style%3D%22width%3A%20100.0%25%3B%20height%3A%20100.0%25%3B%22%3EDistance%3A%20481.4019398726658%20km%3C/div%3E%60%29%5B0%5D%3B%0A%20%20%20%20%20%20%20%20%20%20%20%20popup_bf25c76aa49e43aba2588f8e42ff6276.setContent%28html_0b9c6696a0e54274a9a2e1adc885d1c7%29%3B%0A%20%20%20%20%20%20%20%20%0A%0A%20%20%20%20%20%20%20%20geo_json_4f3b45eb2fe14b81be2b4f25ade6fdde.bindPopup%28popup_bf25c76aa49e43aba2588f8e42ff6276%29%0A%20%20%20%20%20%20%20%20%3B%0A%0A%20%20%20%20%20%20%20%20%0A%20%20%20%20%0A%20%20%20%20%0A%20%20%20%20%20%20%20%20function%20geo_json_d93d7bfebacb4190bc9c5624cc7bfd08_styler%28feature%29%20%7B%0A%20%20%20%20%20%20%20%20%20%20%20%20switch%28feature.id%29%20%7B%0A%20%20%20%20%20%20%20%20%20%20%20%20%20%20%20%20default%3A%0A%20%20%20%20%20%20%20%20%20%20%20%20%20%20%20%20%20%20%20%20return%20%7B%22fillColor%22%3A%20%22orange%22%7D%3B%0A%20%20%20%20%20%20%20%20%20%20%20%20%7D%0A%20%20%20%20%20%20%20%20%7D%0A%0A%20%20%20%20%20%20%20%20function%20geo_json_d93d7bfebacb4190bc9c5624cc7bfd08_onEachFeature%28feature%2C%20layer%29%20%7B%0A%20%20%20%20%20%20%20%20%20%20%20%20layer.on%28%7B%0A%20%20%20%20%20%20%20%20%20%20%20%20%7D%29%3B%0A%20%20%20%20%20%20%20%20%7D%3B%0A%20%20%20%20%20%20%20%20var%20geo_json_d93d7bfebacb4190bc9c5624cc7bfd08%20%3D%20L.geoJson%28null%2C%20%7B%0A%20%20%20%20%20%20%20%20%20%20%20%20%20%20%20%20onEachFeature%3A%20geo_json_d93d7bfebacb4190bc9c5624cc7bfd08_onEachFeature%2C%0A%20%20%20%20%20%20%20%20%20%20%20%20%0A%20%20%20%20%20%20%20%20%20%20%20%20%20%20%20%20style%3A%20geo_json_d93d7bfebacb4190bc9c5624cc7bfd08_styler%2C%0A%20%20%20%20%20%20%20%20%7D%29%3B%0A%0A%20%20%20%20%20%20%20%20function%20geo_json_d93d7bfebacb4190bc9c5624cc7bfd08_add%20%28data%29%20%7B%0A%20%20%20%20%20%20%20%20%20%20%20%20geo_json_d93d7bfebacb4190bc9c5624cc7bfd08%0A%20%20%20%20%20%20%20%20%20%20%20%20%20%20%20%20.addData%28data%29%0A%20%20%20%20%20%20%20%20%20%20%20%20%20%20%20%20.addTo%28map_743c54dbc99c41d693245ed287743010%29%3B%0A%20%20%20%20%20%20%20%20%7D%0A%20%20%20%20%20%20%20%20%20%20%20%20geo_json_d93d7bfebacb4190bc9c5624cc7bfd08_add%28%7B%22bbox%22%3A%20%5B-3.3019204%2C%2040.298463%2C%208.7045469%2C%2050.1113302%5D%2C%20%22features%22%3A%20%5B%7B%22bbox%22%3A%20%5B-3.3019204%2C%2040.298463%2C%208.7045469%2C%2050.1113302%5D%2C%20%22geometry%22%3A%20%7B%22coordinates%22%3A%20%5B%5B-3.3019204%2C%2040.298463%5D%2C%20%5B8.7045469%2C%2050.1113302%5D%5D%2C%20%22type%22%3A%20%22LineString%22%7D%2C%20%22id%22%3A%20%220%22%2C%20%22properties%22%3A%20%7B%7D%2C%20%22type%22%3A%20%22Feature%22%7D%5D%2C%20%22type%22%3A%20%22FeatureCollection%22%7D%29%3B%0A%0A%20%20%20%20%20%20%20%20%0A%20%20%20%20%0A%20%20%20%20%20%20%20%20var%20popup_66a3beb4807e40c1bc8a579714d2249a%20%3D%20L.popup%28%7B%22maxWidth%22%3A%20%22100%25%22%7D%29%3B%0A%0A%20%20%20%20%20%20%20%20%0A%20%20%20%20%20%20%20%20%20%20%20%20var%20html_41e4a339c8934a5bbeae1e6ad33bb4aa%20%3D%20%24%28%60%3Cdiv%20id%3D%22html_41e4a339c8934a5bbeae1e6ad33bb4aa%22%20style%3D%22width%3A%20100.0%25%3B%20height%3A%20100.0%25%3B%22%3EDistance%3A%201438.282909418304%20km%3C/div%3E%60%29%5B0%5D%3B%0A%20%20%20%20%20%20%20%20%20%20%20%20popup_66a3beb4807e40c1bc8a579714d2249a.setContent%28html_41e4a339c8934a5bbeae1e6ad33bb4aa%29%3B%0A%20%20%20%20%20%20%20%20%0A%0A%20%20%20%20%20%20%20%20geo_json_d93d7bfebacb4190bc9c5624cc7bfd08.bindPopup%28popup_66a3beb4807e40c1bc8a579714d2249a%29%0A%20%20%20%20%20%20%20%20%3B%0A%0A%20%20%20%20%20%20%20%20%0A%20%20%20%20%0A%20%20%20%20%0A%20%20%20%20%20%20%20%20function%20geo_json_8e040f69ac1048f48e86faeaae71016c_styler%28feature%29%20%7B%0A%20%20%20%20%20%20%20%20%20%20%20%20switch%28feature.id%29%20%7B%0A%20%20%20%20%20%20%20%20%20%20%20%20%20%20%20%20default%3A%0A%20%20%20%20%20%20%20%20%20%20%20%20%20%20%20%20%20%20%20%20return%20%7B%22fillColor%22%3A%20%22orange%22%7D%3B%0A%20%20%20%20%20%20%20%20%20%20%20%20%7D%0A%20%20%20%20%20%20%20%20%7D%0A%0A%20%20%20%20%20%20%20%20function%20geo_json_8e040f69ac1048f48e86faeaae71016c_onEachFeature%28feature%2C%20layer%29%20%7B%0A%20%20%20%20%20%20%20%20%20%20%20%20layer.on%28%7B%0A%20%20%20%20%20%20%20%20%20%20%20%20%7D%29%3B%0A%20%20%20%20%20%20%20%20%7D%3B%0A%20%20%20%20%20%20%20%20var%20geo_json_8e040f69ac1048f48e86faeaae71016c%20%3D%20L.geoJson%28null%2C%20%7B%0A%20%20%20%20%20%20%20%20%20%20%20%20%20%20%20%20onEachFeature%3A%20geo_json_8e040f69ac1048f48e86faeaae71016c_onEachFeature%2C%0A%20%20%20%20%20%20%20%20%20%20%20%20%0A%20%20%20%20%20%20%20%20%20%20%20%20%20%20%20%20style%3A%20geo_json_8e040f69ac1048f48e86faeaae71016c_styler%2C%0A%20%20%20%20%20%20%20%20%7D%29%3B%0A%0A%20%20%20%20%20%20%20%20function%20geo_json_8e040f69ac1048f48e86faeaae71016c_add%20%28data%29%20%7B%0A%20%20%20%20%20%20%20%20%20%20%20%20geo_json_8e040f69ac1048f48e86faeaae71016c%0A%20%20%20%20%20%20%20%20%20%20%20%20%20%20%20%20.addData%28data%29%0A%20%20%20%20%20%20%20%20%20%20%20%20%20%20%20%20.addTo%28map_743c54dbc99c41d693245ed287743010%29%3B%0A%20%20%20%20%20%20%20%20%7D%0A%20%20%20%20%20%20%20%20%20%20%20%20geo_json_8e040f69ac1048f48e86faeaae71016c_add%28%7B%22bbox%22%3A%20%5B8.7045469%2C%2037.98486%2C%2023.755946%2C%2050.1113302%5D%2C%20%22features%22%3A%20%5B%7B%22bbox%22%3A%20%5B8.7045469%2C%2037.98486%2C%2023.755946%2C%2050.1113302%5D%2C%20%22geometry%22%3A%20%7B%22coordinates%22%3A%20%5B%5B23.755946%2C%2037.98486%5D%2C%20%5B8.7045469%2C%2050.1113302%5D%5D%2C%20%22type%22%3A%20%22LineString%22%7D%2C%20%22id%22%3A%20%220%22%2C%20%22properties%22%3A%20%7B%7D%2C%20%22type%22%3A%20%22Feature%22%7D%5D%2C%20%22type%22%3A%20%22FeatureCollection%22%7D%29%3B%0A%0A%20%20%20%20%20%20%20%20%0A%20%20%20%20%0A%20%20%20%20%20%20%20%20var%20popup_49ad816f83dd4cf5a30acf6ecf4e5ecf%20%3D%20L.popup%28%7B%22maxWidth%22%3A%20%22100%25%22%7D%29%3B%0A%0A%20%20%20%20%20%20%20%20%0A%20%20%20%20%20%20%20%20%20%20%20%20var%20html_538f0d32c422492cbad836fb82e951b5%20%3D%20%24%28%60%3Cdiv%20id%3D%22html_538f0d32c422492cbad836fb82e951b5%22%20style%3D%22width%3A%20100.0%25%3B%20height%3A%20100.0%25%3B%22%3EDistance%3A%201801.5877469126472%20km%3C/div%3E%60%29%5B0%5D%3B%0A%20%20%20%20%20%20%20%20%20%20%20%20popup_49ad816f83dd4cf5a30acf6ecf4e5ecf.setContent%28html_538f0d32c422492cbad836fb82e951b5%29%3B%0A%20%20%20%20%20%20%20%20%0A%0A%20%20%20%20%20%20%20%20geo_json_8e040f69ac1048f48e86faeaae71016c.bindPopup%28popup_49ad816f83dd4cf5a30acf6ecf4e5ecf%29%0A%20%20%20%20%20%20%20%20%3B%0A%0A%20%20%20%20%20%20%20%20%0A%20%20%20%20%0A%3C/script%3E onload=\"this.contentDocument.open();this.contentDocument.write(    decodeURIComponent(this.getAttribute('data-html')));this.contentDocument.close();\" allowfullscreen webkitallowfullscreen mozallowfullscreen></iframe></div></div>"
      ],
      "text/plain": [
       "<folium.folium.Map at 0x7fb2bae97640>"
      ]
     },
     "execution_count": 4,
     "metadata": {},
     "output_type": "execute_result"
    }
   ],
   "source": [
    "map_folium = folium.Map(location=[48.8566969, 2.3514616], zoom_start=2)\n",
    "for i, v in hosts_df.iterrows():\n",
    "    folium.Marker([v[\"latitude\"], v[\"longitude\"]],\n",
    "                  popup=\"<h3>%s</h3>%s\" % (v[\"name\"], v[\"notes\"]),\n",
    "                  icon = folium.Icon(color=\"lightgray\", icon=\"cloud\", prefix=\"fa\")).add_to(map_folium)\n",
    "lines = []\n",
    "for i, v in clients_df.iterrows():\n",
    "    folium.Marker([v[\"latitude\"], v[\"longitude\"]],\n",
    "                  popup=\"<h3>%s</h3>%s\" % (v[\"name\"], v[\"notes\"]),\n",
    "                  icon = folium.Icon(color=\"red\", icon=\"user\", prefix=\"fa\")).add_to(map_folium)\n",
    "    for _, host in hosts_df.iterrows():\n",
    "        lines.append((LineString([(v[\"longitude\"], v[\"latitude\"]), \n",
    "                                (host[\"longitude\"], host[\"latitude\"])]),\n",
    "                      geodesic((v[\"latitude\"], v[\"longitude\"]),\n",
    "                               (host[\"latitude\"], host[\"longitude\"])).km))\n",
    "    \n",
    "folium.plugins.Fullscreen().add_to(map_folium)\n",
    "line_gdf = gpd.GeoDataFrame({'geometry': [l[0] for l in lines], 'distance': [l[1] for l in lines]})\n",
    "# Zur Berechnung der Entfernung:\n",
    "# >>> helsinki = (60.170329, 24.9532664)\n",
    "# >>> frankfurt = (50.1113302, 8.7045469)\n",
    "# >>> geodesic(helsinki, frankfurt).km\n",
    "# 1517.5562305192686\n",
    "\n",
    "\n",
    "for _, r in line_gdf.iterrows():\n",
    "    sim_geo = gpd.GeoSeries(r['geometry']).simplify(tolerance=0.001)\n",
    "    distance = r['distance']\n",
    "    geo_j = sim_geo.to_json()\n",
    "    geo_j = folium.GeoJson(data=geo_j, style_function=lambda x: {'fillColor': 'orange'})\n",
    "    folium.Popup(\"Distance: %s km\" % distance).add_to(geo_j)\n",
    "    geo_j.add_to(map_folium)\n",
    "map_folium.save(\"export/map_visualized.html\")\n",
    "map_folium"
   ]
  },
  {
   "cell_type": "code",
   "execution_count": null,
   "metadata": {},
   "outputs": [],
   "source": []
  }
 ],
 "metadata": {
  "kernelspec": {
   "display_name": "Python 3 (ipykernel)",
   "language": "python",
   "name": "python3"
  },
  "language_info": {
   "codemirror_mode": {
    "name": "ipython",
    "version": 3
   },
   "file_extension": ".py",
   "mimetype": "text/x-python",
   "name": "python",
   "nbconvert_exporter": "python",
   "pygments_lexer": "ipython3",
   "version": "3.8.10"
  }
 },
 "nbformat": 4,
 "nbformat_minor": 4
}
