{
 "cells": [
  {
   "cell_type": "markdown",
   "metadata": {},
   "source": [
    "# Viszualizing Distances on a world map #"
   ]
  },
  {
   "cell_type": "markdown",
   "metadata": {},
   "source": [
    "The information about the locations can be found in the folder \"data\". For the aim of the project, we differntiate between datacenters (hosts) and users (clients). They're saved in csv-files containing the main information. "
   ]
  },
  {
   "cell_type": "code",
   "execution_count": 1,
   "metadata": {},
   "outputs": [],
   "source": [
    "import pandas as pd\n",
    "import numpy as np\n",
    "import folium\n",
    "import folium.plugins\n",
    "import geo_convert\n",
    "from shapely.geometry import LineString\n",
    "import geopandas as gpd\n",
    "from geopy.distance import geodesic"
   ]
  },
  {
   "cell_type": "markdown",
   "metadata": {},
   "source": [
    "The data is imported into pandas dataframe."
   ]
  },
  {
   "cell_type": "code",
   "execution_count": 2,
   "metadata": {},
   "outputs": [
    {
     "name": "stdout",
     "output_type": "stream",
     "text": [
      "   client_id                 name     land                       street  \\\n",
      "0          1        Suomen Pankki  Finland               Snellmaninkatu   \n",
      "1          2     Banque de France   France  rue Croix des Petits-Champs   \n",
      "2          3      Banco de Espana    Spain                    C/ Alcalá   \n",
      "3          4  Τράπεζα Της Ελλάδος   Greece                El. Venizelou   \n",
      "\n",
      "  number    zip      city           notes   latitude  longitude  \n",
      "0      2    170  Helsinki   Finlands bank  60.170329  24.953266  \n",
      "1     31  75001     Paris  Bank of France  48.863840   2.339779  \n",
      "2     48  28014    Madrid   Bank of Spain  40.298463  -3.301920  \n",
      "3     21  10250    Athina  Bank of Greece  37.984860  23.755946  \n",
      "   host_id name     land           street number    zip       city  \\\n",
      "0        1  EZB  Germany  Sonnemannstraße     22  60314  Frankfurt   \n",
      "\n",
      "               notes  latitude  longitude  \n",
      "0  Adress of the EZB  50.11133   8.704547  \n"
     ]
    }
   ],
   "source": [
    "hosts_df = pd.read_csv(\"data/hosts.csv\", dtype={\"Name\": str, \"land\": str, \"street\": str, \"number\": str, \"zip\": str, \"city\": str})\n",
    "clients_df = pd.read_csv(\"data/clients.csv\", dtype={\"Name\": str, \"land\": str, \"street\": str, \"number\": str, \"zip\": str, \"city\": str})\n",
    "def get_coordinates(df: pd.DataFrame) -> pd.DataFrame:\n",
    "    df = pd.DataFrame(df)\n",
    "    if \"longitude\" not in list(df):\n",
    "        coords = []\n",
    "        for _,v in df.iterrows():\n",
    "            address = {\"street\": v[\"street\"],\n",
    "                   \"number\": v[\"number\"],\n",
    "                   \"city\": v[\"city\"],\n",
    "                   \"country\": v[\"land\"],\n",
    "                   \"zip_code\": v[\"zip\"]}\n",
    "            coords.append(geo_convert.geocode_address(address))\n",
    "        df[\"latitude\"] = pd.Series([i[0] for i in coords])\n",
    "        df[\"longitude\"] = pd.Series([i[1] for i in coords])\n",
    "    return df\n",
    "\n",
    "clients_df = get_coordinates(clients_df)\n",
    "clients_df.to_csv(\"data/clients.csv\", index=False, encoding=\"utf8\")\n",
    "hosts_df = get_coordinates(hosts_df)\n",
    "hosts_df.to_csv(\"data/hosts.csv\", index=False, encoding=\"utf8\")\n",
    "print(clients_df)\n",
    "print(hosts_df)"
   ]
  },
  {
   "cell_type": "markdown",
   "metadata": {},
   "source": [
    "We have now imported the data and looked up the geo-data. In the folowing part, the informations will be visualized on a map."
   ]
  },
  {
   "cell_type": "code",
   "execution_count": 8,
   "metadata": {},
   "outputs": [
    {
     "data": {
      "text/html": [
       "<div style=\"width:100%;\"><div style=\"position:relative;width:100%;height:0;padding-bottom:60%;\"><span style=\"color:#565656\">Make this Notebook Trusted to load map: File -> Trust Notebook</span><iframe src=\"about:blank\" style=\"position:absolute;width:100%;height:100%;left:0;top:0;border:none !important;\" data-html=%3C%21DOCTYPE%20html%3E%0A%3Chead%3E%20%20%20%20%0A%20%20%20%20%3Cmeta%20http-equiv%3D%22content-type%22%20content%3D%22text/html%3B%20charset%3DUTF-8%22%20/%3E%0A%20%20%20%20%0A%20%20%20%20%20%20%20%20%3Cscript%3E%0A%20%20%20%20%20%20%20%20%20%20%20%20L_NO_TOUCH%20%3D%20false%3B%0A%20%20%20%20%20%20%20%20%20%20%20%20L_DISABLE_3D%20%3D%20false%3B%0A%20%20%20%20%20%20%20%20%3C/script%3E%0A%20%20%20%20%0A%20%20%20%20%3Cstyle%3Ehtml%2C%20body%20%7Bwidth%3A%20100%25%3Bheight%3A%20100%25%3Bmargin%3A%200%3Bpadding%3A%200%3B%7D%3C/style%3E%0A%20%20%20%20%3Cstyle%3E%23map%20%7Bposition%3Aabsolute%3Btop%3A0%3Bbottom%3A0%3Bright%3A0%3Bleft%3A0%3B%7D%3C/style%3E%0A%20%20%20%20%3Cscript%20src%3D%22https%3A//cdn.jsdelivr.net/npm/leaflet%401.6.0/dist/leaflet.js%22%3E%3C/script%3E%0A%20%20%20%20%3Cscript%20src%3D%22https%3A//code.jquery.com/jquery-1.12.4.min.js%22%3E%3C/script%3E%0A%20%20%20%20%3Cscript%20src%3D%22https%3A//maxcdn.bootstrapcdn.com/bootstrap/3.2.0/js/bootstrap.min.js%22%3E%3C/script%3E%0A%20%20%20%20%3Cscript%20src%3D%22https%3A//cdnjs.cloudflare.com/ajax/libs/Leaflet.awesome-markers/2.0.2/leaflet.awesome-markers.js%22%3E%3C/script%3E%0A%20%20%20%20%3Clink%20rel%3D%22stylesheet%22%20href%3D%22https%3A//cdn.jsdelivr.net/npm/leaflet%401.6.0/dist/leaflet.css%22/%3E%0A%20%20%20%20%3Clink%20rel%3D%22stylesheet%22%20href%3D%22https%3A//maxcdn.bootstrapcdn.com/bootstrap/3.2.0/css/bootstrap.min.css%22/%3E%0A%20%20%20%20%3Clink%20rel%3D%22stylesheet%22%20href%3D%22https%3A//maxcdn.bootstrapcdn.com/bootstrap/3.2.0/css/bootstrap-theme.min.css%22/%3E%0A%20%20%20%20%3Clink%20rel%3D%22stylesheet%22%20href%3D%22https%3A//maxcdn.bootstrapcdn.com/font-awesome/4.6.3/css/font-awesome.min.css%22/%3E%0A%20%20%20%20%3Clink%20rel%3D%22stylesheet%22%20href%3D%22https%3A//cdnjs.cloudflare.com/ajax/libs/Leaflet.awesome-markers/2.0.2/leaflet.awesome-markers.css%22/%3E%0A%20%20%20%20%3Clink%20rel%3D%22stylesheet%22%20href%3D%22https%3A//cdn.jsdelivr.net/gh/python-visualization/folium/folium/templates/leaflet.awesome.rotate.min.css%22/%3E%0A%20%20%20%20%0A%20%20%20%20%20%20%20%20%20%20%20%20%3Cmeta%20name%3D%22viewport%22%20content%3D%22width%3Ddevice-width%2C%0A%20%20%20%20%20%20%20%20%20%20%20%20%20%20%20%20initial-scale%3D1.0%2C%20maximum-scale%3D1.0%2C%20user-scalable%3Dno%22%20/%3E%0A%20%20%20%20%20%20%20%20%20%20%20%20%3Cstyle%3E%0A%20%20%20%20%20%20%20%20%20%20%20%20%20%20%20%20%23map_30d14119ff8f4b2b9979f1752c782629%20%7B%0A%20%20%20%20%20%20%20%20%20%20%20%20%20%20%20%20%20%20%20%20position%3A%20relative%3B%0A%20%20%20%20%20%20%20%20%20%20%20%20%20%20%20%20%20%20%20%20width%3A%20100.0%25%3B%0A%20%20%20%20%20%20%20%20%20%20%20%20%20%20%20%20%20%20%20%20height%3A%20100.0%25%3B%0A%20%20%20%20%20%20%20%20%20%20%20%20%20%20%20%20%20%20%20%20left%3A%200.0%25%3B%0A%20%20%20%20%20%20%20%20%20%20%20%20%20%20%20%20%20%20%20%20top%3A%200.0%25%3B%0A%20%20%20%20%20%20%20%20%20%20%20%20%20%20%20%20%7D%0A%20%20%20%20%20%20%20%20%20%20%20%20%3C/style%3E%0A%20%20%20%20%20%20%20%20%0A%20%20%20%20%3Cscript%20src%3D%22https%3A//cdnjs.cloudflare.com/ajax/libs/leaflet.fullscreen/1.4.2/Control.FullScreen.min.js%22%3E%3C/script%3E%0A%20%20%20%20%3Clink%20rel%3D%22stylesheet%22%20href%3D%22https%3A//cdnjs.cloudflare.com/ajax/libs/leaflet.fullscreen/1.4.2/Control.FullScreen.min.css%22/%3E%0A%3C/head%3E%0A%3Cbody%3E%20%20%20%20%0A%20%20%20%20%0A%20%20%20%20%20%20%20%20%20%20%20%20%3Cdiv%20class%3D%22folium-map%22%20id%3D%22map_30d14119ff8f4b2b9979f1752c782629%22%20%3E%3C/div%3E%0A%20%20%20%20%20%20%20%20%0A%3C/body%3E%0A%3Cscript%3E%20%20%20%20%0A%20%20%20%20%0A%20%20%20%20%20%20%20%20%20%20%20%20var%20map_30d14119ff8f4b2b9979f1752c782629%20%3D%20L.map%28%0A%20%20%20%20%20%20%20%20%20%20%20%20%20%20%20%20%22map_30d14119ff8f4b2b9979f1752c782629%22%2C%0A%20%20%20%20%20%20%20%20%20%20%20%20%20%20%20%20%7B%0A%20%20%20%20%20%20%20%20%20%20%20%20%20%20%20%20%20%20%20%20center%3A%20%5B48.8566969%2C%202.3514616%5D%2C%0A%20%20%20%20%20%20%20%20%20%20%20%20%20%20%20%20%20%20%20%20crs%3A%20L.CRS.EPSG3857%2C%0A%20%20%20%20%20%20%20%20%20%20%20%20%20%20%20%20%20%20%20%20zoom%3A%202%2C%0A%20%20%20%20%20%20%20%20%20%20%20%20%20%20%20%20%20%20%20%20zoomControl%3A%20true%2C%0A%20%20%20%20%20%20%20%20%20%20%20%20%20%20%20%20%20%20%20%20preferCanvas%3A%20false%2C%0A%20%20%20%20%20%20%20%20%20%20%20%20%20%20%20%20%7D%0A%20%20%20%20%20%20%20%20%20%20%20%20%29%3B%0A%0A%20%20%20%20%20%20%20%20%20%20%20%20%0A%0A%20%20%20%20%20%20%20%20%0A%20%20%20%20%0A%20%20%20%20%20%20%20%20%20%20%20%20var%20tile_layer_0feaf2f9a52b40f2a7c22b91113682ca%20%3D%20L.tileLayer%28%0A%20%20%20%20%20%20%20%20%20%20%20%20%20%20%20%20%22https%3A//%7Bs%7D.tile.openstreetmap.org/%7Bz%7D/%7Bx%7D/%7By%7D.png%22%2C%0A%20%20%20%20%20%20%20%20%20%20%20%20%20%20%20%20%7B%22attribution%22%3A%20%22Data%20by%20%5Cu0026copy%3B%20%5Cu003ca%20href%3D%5C%22http%3A//openstreetmap.org%5C%22%5Cu003eOpenStreetMap%5Cu003c/a%5Cu003e%2C%20under%20%5Cu003ca%20href%3D%5C%22http%3A//www.openstreetmap.org/copyright%5C%22%5Cu003eODbL%5Cu003c/a%5Cu003e.%22%2C%20%22detectRetina%22%3A%20false%2C%20%22maxNativeZoom%22%3A%2018%2C%20%22maxZoom%22%3A%2018%2C%20%22minZoom%22%3A%200%2C%20%22noWrap%22%3A%20false%2C%20%22opacity%22%3A%201%2C%20%22subdomains%22%3A%20%22abc%22%2C%20%22tms%22%3A%20false%7D%0A%20%20%20%20%20%20%20%20%20%20%20%20%29.addTo%28map_30d14119ff8f4b2b9979f1752c782629%29%3B%0A%20%20%20%20%20%20%20%20%0A%20%20%20%20%0A%20%20%20%20%20%20%20%20%20%20%20%20var%20marker_dfd0bd841290490587b561dfcbf0aabf%20%3D%20L.marker%28%0A%20%20%20%20%20%20%20%20%20%20%20%20%20%20%20%20%5B50.1113302%2C%208.7045469%5D%2C%0A%20%20%20%20%20%20%20%20%20%20%20%20%20%20%20%20%7B%7D%0A%20%20%20%20%20%20%20%20%20%20%20%20%29.addTo%28map_30d14119ff8f4b2b9979f1752c782629%29%3B%0A%20%20%20%20%20%20%20%20%0A%20%20%20%20%0A%20%20%20%20%20%20%20%20%20%20%20%20var%20icon_8fe58bbdef58482ba8e08aab243406c4%20%3D%20L.AwesomeMarkers.icon%28%0A%20%20%20%20%20%20%20%20%20%20%20%20%20%20%20%20%7B%22extraClasses%22%3A%20%22fa-rotate-0%22%2C%20%22icon%22%3A%20%22cloud%22%2C%20%22iconColor%22%3A%20%22white%22%2C%20%22markerColor%22%3A%20%22lightgray%22%2C%20%22prefix%22%3A%20%22fa%22%7D%0A%20%20%20%20%20%20%20%20%20%20%20%20%29%3B%0A%20%20%20%20%20%20%20%20%20%20%20%20marker_dfd0bd841290490587b561dfcbf0aabf.setIcon%28icon_8fe58bbdef58482ba8e08aab243406c4%29%3B%0A%20%20%20%20%20%20%20%20%0A%20%20%20%20%0A%20%20%20%20%20%20%20%20var%20popup_2f27c7147f5640998aed8cf4abf84f09%20%3D%20L.popup%28%7B%22maxWidth%22%3A%20%22100%25%22%7D%29%3B%0A%0A%20%20%20%20%20%20%20%20%0A%20%20%20%20%20%20%20%20%20%20%20%20var%20html_c31d2163a8584cf297d6d331b982f59a%20%3D%20%24%28%60%3Cdiv%20id%3D%22html_c31d2163a8584cf297d6d331b982f59a%22%20style%3D%22width%3A%20100.0%25%3B%20height%3A%20100.0%25%3B%22%3E%3Ch3%3EEZB%3C/h3%3EAdress%20of%20the%20EZB%3C/div%3E%60%29%5B0%5D%3B%0A%20%20%20%20%20%20%20%20%20%20%20%20popup_2f27c7147f5640998aed8cf4abf84f09.setContent%28html_c31d2163a8584cf297d6d331b982f59a%29%3B%0A%20%20%20%20%20%20%20%20%0A%0A%20%20%20%20%20%20%20%20marker_dfd0bd841290490587b561dfcbf0aabf.bindPopup%28popup_2f27c7147f5640998aed8cf4abf84f09%29%0A%20%20%20%20%20%20%20%20%3B%0A%0A%20%20%20%20%20%20%20%20%0A%20%20%20%20%0A%20%20%20%20%0A%20%20%20%20%20%20%20%20%20%20%20%20var%20marker_fd1f4a89cc2249e78f3c3dc8af5e3775%20%3D%20L.marker%28%0A%20%20%20%20%20%20%20%20%20%20%20%20%20%20%20%20%5B60.170329%2C%2024.9532664%5D%2C%0A%20%20%20%20%20%20%20%20%20%20%20%20%20%20%20%20%7B%7D%0A%20%20%20%20%20%20%20%20%20%20%20%20%29.addTo%28map_30d14119ff8f4b2b9979f1752c782629%29%3B%0A%20%20%20%20%20%20%20%20%0A%20%20%20%20%0A%20%20%20%20%20%20%20%20%20%20%20%20var%20icon_385bd0e0aea846d68334ed80dfe3224d%20%3D%20L.AwesomeMarkers.icon%28%0A%20%20%20%20%20%20%20%20%20%20%20%20%20%20%20%20%7B%22extraClasses%22%3A%20%22fa-rotate-0%22%2C%20%22icon%22%3A%20%22user%22%2C%20%22iconColor%22%3A%20%22white%22%2C%20%22markerColor%22%3A%20%22red%22%2C%20%22prefix%22%3A%20%22fa%22%7D%0A%20%20%20%20%20%20%20%20%20%20%20%20%29%3B%0A%20%20%20%20%20%20%20%20%20%20%20%20marker_fd1f4a89cc2249e78f3c3dc8af5e3775.setIcon%28icon_385bd0e0aea846d68334ed80dfe3224d%29%3B%0A%20%20%20%20%20%20%20%20%0A%20%20%20%20%0A%20%20%20%20%20%20%20%20var%20popup_9e2a252884de463faf8fd2fca9777554%20%3D%20L.popup%28%7B%22maxWidth%22%3A%20%22100%25%22%7D%29%3B%0A%0A%20%20%20%20%20%20%20%20%0A%20%20%20%20%20%20%20%20%20%20%20%20var%20html_bd5910926c074b53aa4663d8bfe96b32%20%3D%20%24%28%60%3Cdiv%20id%3D%22html_bd5910926c074b53aa4663d8bfe96b32%22%20style%3D%22width%3A%20100.0%25%3B%20height%3A%20100.0%25%3B%22%3E%3Ch3%3ESuomen%20Pankki%3C/h3%3EFinlands%20bank%3C/div%3E%60%29%5B0%5D%3B%0A%20%20%20%20%20%20%20%20%20%20%20%20popup_9e2a252884de463faf8fd2fca9777554.setContent%28html_bd5910926c074b53aa4663d8bfe96b32%29%3B%0A%20%20%20%20%20%20%20%20%0A%0A%20%20%20%20%20%20%20%20marker_fd1f4a89cc2249e78f3c3dc8af5e3775.bindPopup%28popup_9e2a252884de463faf8fd2fca9777554%29%0A%20%20%20%20%20%20%20%20%3B%0A%0A%20%20%20%20%20%20%20%20%0A%20%20%20%20%0A%20%20%20%20%0A%20%20%20%20%20%20%20%20%20%20%20%20var%20marker_bc01d9595c97422daf725a4b92c3e0d4%20%3D%20L.marker%28%0A%20%20%20%20%20%20%20%20%20%20%20%20%20%20%20%20%5B48.86384%2C%202.3397793%5D%2C%0A%20%20%20%20%20%20%20%20%20%20%20%20%20%20%20%20%7B%7D%0A%20%20%20%20%20%20%20%20%20%20%20%20%29.addTo%28map_30d14119ff8f4b2b9979f1752c782629%29%3B%0A%20%20%20%20%20%20%20%20%0A%20%20%20%20%0A%20%20%20%20%20%20%20%20%20%20%20%20var%20icon_4dc3814e5a41449f8a5491cde93b6852%20%3D%20L.AwesomeMarkers.icon%28%0A%20%20%20%20%20%20%20%20%20%20%20%20%20%20%20%20%7B%22extraClasses%22%3A%20%22fa-rotate-0%22%2C%20%22icon%22%3A%20%22user%22%2C%20%22iconColor%22%3A%20%22white%22%2C%20%22markerColor%22%3A%20%22red%22%2C%20%22prefix%22%3A%20%22fa%22%7D%0A%20%20%20%20%20%20%20%20%20%20%20%20%29%3B%0A%20%20%20%20%20%20%20%20%20%20%20%20marker_bc01d9595c97422daf725a4b92c3e0d4.setIcon%28icon_4dc3814e5a41449f8a5491cde93b6852%29%3B%0A%20%20%20%20%20%20%20%20%0A%20%20%20%20%0A%20%20%20%20%20%20%20%20var%20popup_85202b4396324db89741d88ecfc4a55f%20%3D%20L.popup%28%7B%22maxWidth%22%3A%20%22100%25%22%7D%29%3B%0A%0A%20%20%20%20%20%20%20%20%0A%20%20%20%20%20%20%20%20%20%20%20%20var%20html_318413e99b9f4388bffd6a78aa755800%20%3D%20%24%28%60%3Cdiv%20id%3D%22html_318413e99b9f4388bffd6a78aa755800%22%20style%3D%22width%3A%20100.0%25%3B%20height%3A%20100.0%25%3B%22%3E%3Ch3%3EBanque%20de%20France%3C/h3%3EBank%20of%20France%3C/div%3E%60%29%5B0%5D%3B%0A%20%20%20%20%20%20%20%20%20%20%20%20popup_85202b4396324db89741d88ecfc4a55f.setContent%28html_318413e99b9f4388bffd6a78aa755800%29%3B%0A%20%20%20%20%20%20%20%20%0A%0A%20%20%20%20%20%20%20%20marker_bc01d9595c97422daf725a4b92c3e0d4.bindPopup%28popup_85202b4396324db89741d88ecfc4a55f%29%0A%20%20%20%20%20%20%20%20%3B%0A%0A%20%20%20%20%20%20%20%20%0A%20%20%20%20%0A%20%20%20%20%0A%20%20%20%20%20%20%20%20%20%20%20%20var%20marker_32251f5647aa40c18363cda20161c5ba%20%3D%20L.marker%28%0A%20%20%20%20%20%20%20%20%20%20%20%20%20%20%20%20%5B40.298463%2C%20-3.3019204%5D%2C%0A%20%20%20%20%20%20%20%20%20%20%20%20%20%20%20%20%7B%7D%0A%20%20%20%20%20%20%20%20%20%20%20%20%29.addTo%28map_30d14119ff8f4b2b9979f1752c782629%29%3B%0A%20%20%20%20%20%20%20%20%0A%20%20%20%20%0A%20%20%20%20%20%20%20%20%20%20%20%20var%20icon_8bcd191de7b74d5ca6db3ee6489e37b7%20%3D%20L.AwesomeMarkers.icon%28%0A%20%20%20%20%20%20%20%20%20%20%20%20%20%20%20%20%7B%22extraClasses%22%3A%20%22fa-rotate-0%22%2C%20%22icon%22%3A%20%22user%22%2C%20%22iconColor%22%3A%20%22white%22%2C%20%22markerColor%22%3A%20%22red%22%2C%20%22prefix%22%3A%20%22fa%22%7D%0A%20%20%20%20%20%20%20%20%20%20%20%20%29%3B%0A%20%20%20%20%20%20%20%20%20%20%20%20marker_32251f5647aa40c18363cda20161c5ba.setIcon%28icon_8bcd191de7b74d5ca6db3ee6489e37b7%29%3B%0A%20%20%20%20%20%20%20%20%0A%20%20%20%20%0A%20%20%20%20%20%20%20%20var%20popup_8d878e20863e45fbb548010bb2412960%20%3D%20L.popup%28%7B%22maxWidth%22%3A%20%22100%25%22%7D%29%3B%0A%0A%20%20%20%20%20%20%20%20%0A%20%20%20%20%20%20%20%20%20%20%20%20var%20html_f90cf95642ac4a1faf3caaa48521941e%20%3D%20%24%28%60%3Cdiv%20id%3D%22html_f90cf95642ac4a1faf3caaa48521941e%22%20style%3D%22width%3A%20100.0%25%3B%20height%3A%20100.0%25%3B%22%3E%3Ch3%3EBanco%20de%20Espana%3C/h3%3EBank%20of%20Spain%3C/div%3E%60%29%5B0%5D%3B%0A%20%20%20%20%20%20%20%20%20%20%20%20popup_8d878e20863e45fbb548010bb2412960.setContent%28html_f90cf95642ac4a1faf3caaa48521941e%29%3B%0A%20%20%20%20%20%20%20%20%0A%0A%20%20%20%20%20%20%20%20marker_32251f5647aa40c18363cda20161c5ba.bindPopup%28popup_8d878e20863e45fbb548010bb2412960%29%0A%20%20%20%20%20%20%20%20%3B%0A%0A%20%20%20%20%20%20%20%20%0A%20%20%20%20%0A%20%20%20%20%0A%20%20%20%20%20%20%20%20%20%20%20%20var%20marker_058bee7a981746fabb2cc53171c7a919%20%3D%20L.marker%28%0A%20%20%20%20%20%20%20%20%20%20%20%20%20%20%20%20%5B37.98486%2C%2023.755946%5D%2C%0A%20%20%20%20%20%20%20%20%20%20%20%20%20%20%20%20%7B%7D%0A%20%20%20%20%20%20%20%20%20%20%20%20%29.addTo%28map_30d14119ff8f4b2b9979f1752c782629%29%3B%0A%20%20%20%20%20%20%20%20%0A%20%20%20%20%0A%20%20%20%20%20%20%20%20%20%20%20%20var%20icon_6be12b8ae931440ebecf0666d4bc70ee%20%3D%20L.AwesomeMarkers.icon%28%0A%20%20%20%20%20%20%20%20%20%20%20%20%20%20%20%20%7B%22extraClasses%22%3A%20%22fa-rotate-0%22%2C%20%22icon%22%3A%20%22user%22%2C%20%22iconColor%22%3A%20%22white%22%2C%20%22markerColor%22%3A%20%22red%22%2C%20%22prefix%22%3A%20%22fa%22%7D%0A%20%20%20%20%20%20%20%20%20%20%20%20%29%3B%0A%20%20%20%20%20%20%20%20%20%20%20%20marker_058bee7a981746fabb2cc53171c7a919.setIcon%28icon_6be12b8ae931440ebecf0666d4bc70ee%29%3B%0A%20%20%20%20%20%20%20%20%0A%20%20%20%20%0A%20%20%20%20%20%20%20%20var%20popup_1a0c3c8b06e5481bb8bc96667c7ace3f%20%3D%20L.popup%28%7B%22maxWidth%22%3A%20%22100%25%22%7D%29%3B%0A%0A%20%20%20%20%20%20%20%20%0A%20%20%20%20%20%20%20%20%20%20%20%20var%20html_501081e98ffa4e12b0a1b50554329dbb%20%3D%20%24%28%60%3Cdiv%20id%3D%22html_501081e98ffa4e12b0a1b50554329dbb%22%20style%3D%22width%3A%20100.0%25%3B%20height%3A%20100.0%25%3B%22%3E%3Ch3%3E%CE%A4%CF%81%CE%AC%CF%80%CE%B5%CE%B6%CE%B1%20%CE%A4%CE%B7%CF%82%20%CE%95%CE%BB%CE%BB%CE%AC%CE%B4%CE%BF%CF%82%3C/h3%3EBank%20of%20Greece%3C/div%3E%60%29%5B0%5D%3B%0A%20%20%20%20%20%20%20%20%20%20%20%20popup_1a0c3c8b06e5481bb8bc96667c7ace3f.setContent%28html_501081e98ffa4e12b0a1b50554329dbb%29%3B%0A%20%20%20%20%20%20%20%20%0A%0A%20%20%20%20%20%20%20%20marker_058bee7a981746fabb2cc53171c7a919.bindPopup%28popup_1a0c3c8b06e5481bb8bc96667c7ace3f%29%0A%20%20%20%20%20%20%20%20%3B%0A%0A%20%20%20%20%20%20%20%20%0A%20%20%20%20%0A%20%20%20%20%0A%20%20%20%20%20%20%20%20%20%20%20%20L.control.fullscreen%28%0A%20%20%20%20%20%20%20%20%20%20%20%20%20%20%20%20%7B%22forceSeparateButton%22%3A%20false%2C%20%22position%22%3A%20%22topleft%22%2C%20%22title%22%3A%20%22Full%20Screen%22%2C%20%22titleCancel%22%3A%20%22Exit%20Full%20Screen%22%7D%0A%20%20%20%20%20%20%20%20%20%20%20%20%29.addTo%28map_30d14119ff8f4b2b9979f1752c782629%29%3B%0A%20%20%20%20%20%20%20%20%0A%20%20%20%20%0A%20%20%20%20%20%20%20%20function%20geo_json_be361caa47a64670b33cce0dc453c905_styler%28feature%29%20%7B%0A%20%20%20%20%20%20%20%20%20%20%20%20switch%28feature.id%29%20%7B%0A%20%20%20%20%20%20%20%20%20%20%20%20%20%20%20%20default%3A%0A%20%20%20%20%20%20%20%20%20%20%20%20%20%20%20%20%20%20%20%20return%20%7B%22fillColor%22%3A%20%22orange%22%7D%3B%0A%20%20%20%20%20%20%20%20%20%20%20%20%7D%0A%20%20%20%20%20%20%20%20%7D%0A%0A%20%20%20%20%20%20%20%20function%20geo_json_be361caa47a64670b33cce0dc453c905_onEachFeature%28feature%2C%20layer%29%20%7B%0A%20%20%20%20%20%20%20%20%20%20%20%20layer.on%28%7B%0A%20%20%20%20%20%20%20%20%20%20%20%20%7D%29%3B%0A%20%20%20%20%20%20%20%20%7D%3B%0A%20%20%20%20%20%20%20%20var%20geo_json_be361caa47a64670b33cce0dc453c905%20%3D%20L.geoJson%28null%2C%20%7B%0A%20%20%20%20%20%20%20%20%20%20%20%20%20%20%20%20onEachFeature%3A%20geo_json_be361caa47a64670b33cce0dc453c905_onEachFeature%2C%0A%20%20%20%20%20%20%20%20%20%20%20%20%0A%20%20%20%20%20%20%20%20%20%20%20%20%20%20%20%20style%3A%20geo_json_be361caa47a64670b33cce0dc453c905_styler%2C%0A%20%20%20%20%20%20%20%20%7D%29%3B%0A%0A%20%20%20%20%20%20%20%20function%20geo_json_be361caa47a64670b33cce0dc453c905_add%20%28data%29%20%7B%0A%20%20%20%20%20%20%20%20%20%20%20%20geo_json_be361caa47a64670b33cce0dc453c905%0A%20%20%20%20%20%20%20%20%20%20%20%20%20%20%20%20.addData%28data%29%0A%20%20%20%20%20%20%20%20%20%20%20%20%20%20%20%20.addTo%28map_30d14119ff8f4b2b9979f1752c782629%29%3B%0A%20%20%20%20%20%20%20%20%7D%0A%20%20%20%20%20%20%20%20%20%20%20%20geo_json_be361caa47a64670b33cce0dc453c905_add%28%7B%22bbox%22%3A%20%5B8.7045469%2C%2050.1113302%2C%2024.9532664%2C%2060.170329%5D%2C%20%22features%22%3A%20%5B%7B%22bbox%22%3A%20%5B8.7045469%2C%2050.1113302%2C%2024.9532664%2C%2060.170329%5D%2C%20%22geometry%22%3A%20%7B%22coordinates%22%3A%20%5B%5B24.9532664%2C%2060.170329%5D%2C%20%5B8.7045469%2C%2050.1113302%5D%5D%2C%20%22type%22%3A%20%22LineString%22%7D%2C%20%22id%22%3A%20%220%22%2C%20%22properties%22%3A%20%7B%7D%2C%20%22type%22%3A%20%22Feature%22%7D%5D%2C%20%22type%22%3A%20%22FeatureCollection%22%7D%29%3B%0A%0A%20%20%20%20%20%20%20%20%0A%20%20%20%20%0A%20%20%20%20%20%20%20%20var%20popup_abcb312263bf4bfb8cbff894006b8a3e%20%3D%20L.popup%28%7B%22maxWidth%22%3A%20%22100%25%22%7D%29%3B%0A%0A%20%20%20%20%20%20%20%20%0A%20%20%20%20%20%20%20%20%20%20%20%20var%20html_1a65ae644c454890b521cd736118182f%20%3D%20%24%28%60%3Cdiv%20id%3D%22html_1a65ae644c454890b521cd736118182f%22%20style%3D%22width%3A%20100.0%25%3B%20height%3A%20100.0%25%3B%22%3EDistance%3A%201517.56%20km%3C/div%3E%60%29%5B0%5D%3B%0A%20%20%20%20%20%20%20%20%20%20%20%20popup_abcb312263bf4bfb8cbff894006b8a3e.setContent%28html_1a65ae644c454890b521cd736118182f%29%3B%0A%20%20%20%20%20%20%20%20%0A%0A%20%20%20%20%20%20%20%20geo_json_be361caa47a64670b33cce0dc453c905.bindPopup%28popup_abcb312263bf4bfb8cbff894006b8a3e%29%0A%20%20%20%20%20%20%20%20%3B%0A%0A%20%20%20%20%20%20%20%20%0A%20%20%20%20%0A%20%20%20%20%0A%20%20%20%20%20%20%20%20function%20geo_json_2ef6c5e586264b78a56f0cff5c4ae7cf_styler%28feature%29%20%7B%0A%20%20%20%20%20%20%20%20%20%20%20%20switch%28feature.id%29%20%7B%0A%20%20%20%20%20%20%20%20%20%20%20%20%20%20%20%20default%3A%0A%20%20%20%20%20%20%20%20%20%20%20%20%20%20%20%20%20%20%20%20return%20%7B%22fillColor%22%3A%20%22orange%22%7D%3B%0A%20%20%20%20%20%20%20%20%20%20%20%20%7D%0A%20%20%20%20%20%20%20%20%7D%0A%0A%20%20%20%20%20%20%20%20function%20geo_json_2ef6c5e586264b78a56f0cff5c4ae7cf_onEachFeature%28feature%2C%20layer%29%20%7B%0A%20%20%20%20%20%20%20%20%20%20%20%20layer.on%28%7B%0A%20%20%20%20%20%20%20%20%20%20%20%20%7D%29%3B%0A%20%20%20%20%20%20%20%20%7D%3B%0A%20%20%20%20%20%20%20%20var%20geo_json_2ef6c5e586264b78a56f0cff5c4ae7cf%20%3D%20L.geoJson%28null%2C%20%7B%0A%20%20%20%20%20%20%20%20%20%20%20%20%20%20%20%20onEachFeature%3A%20geo_json_2ef6c5e586264b78a56f0cff5c4ae7cf_onEachFeature%2C%0A%20%20%20%20%20%20%20%20%20%20%20%20%0A%20%20%20%20%20%20%20%20%20%20%20%20%20%20%20%20style%3A%20geo_json_2ef6c5e586264b78a56f0cff5c4ae7cf_styler%2C%0A%20%20%20%20%20%20%20%20%7D%29%3B%0A%0A%20%20%20%20%20%20%20%20function%20geo_json_2ef6c5e586264b78a56f0cff5c4ae7cf_add%20%28data%29%20%7B%0A%20%20%20%20%20%20%20%20%20%20%20%20geo_json_2ef6c5e586264b78a56f0cff5c4ae7cf%0A%20%20%20%20%20%20%20%20%20%20%20%20%20%20%20%20.addData%28data%29%0A%20%20%20%20%20%20%20%20%20%20%20%20%20%20%20%20.addTo%28map_30d14119ff8f4b2b9979f1752c782629%29%3B%0A%20%20%20%20%20%20%20%20%7D%0A%20%20%20%20%20%20%20%20%20%20%20%20geo_json_2ef6c5e586264b78a56f0cff5c4ae7cf_add%28%7B%22bbox%22%3A%20%5B2.3397793%2C%2048.86384%2C%208.7045469%2C%2050.1113302%5D%2C%20%22features%22%3A%20%5B%7B%22bbox%22%3A%20%5B2.3397793%2C%2048.86384%2C%208.7045469%2C%2050.1113302%5D%2C%20%22geometry%22%3A%20%7B%22coordinates%22%3A%20%5B%5B2.3397793%2C%2048.86384%5D%2C%20%5B8.7045469%2C%2050.1113302%5D%5D%2C%20%22type%22%3A%20%22LineString%22%7D%2C%20%22id%22%3A%20%220%22%2C%20%22properties%22%3A%20%7B%7D%2C%20%22type%22%3A%20%22Feature%22%7D%5D%2C%20%22type%22%3A%20%22FeatureCollection%22%7D%29%3B%0A%0A%20%20%20%20%20%20%20%20%0A%20%20%20%20%0A%20%20%20%20%20%20%20%20var%20popup_476c440d80fe4402ae0c83838d89ad80%20%3D%20L.popup%28%7B%22maxWidth%22%3A%20%22100%25%22%7D%29%3B%0A%0A%20%20%20%20%20%20%20%20%0A%20%20%20%20%20%20%20%20%20%20%20%20var%20html_22c14f7e35e248ae9f0b5b9bdfb6001b%20%3D%20%24%28%60%3Cdiv%20id%3D%22html_22c14f7e35e248ae9f0b5b9bdfb6001b%22%20style%3D%22width%3A%20100.0%25%3B%20height%3A%20100.0%25%3B%22%3EDistance%3A%20481.4%20km%3C/div%3E%60%29%5B0%5D%3B%0A%20%20%20%20%20%20%20%20%20%20%20%20popup_476c440d80fe4402ae0c83838d89ad80.setContent%28html_22c14f7e35e248ae9f0b5b9bdfb6001b%29%3B%0A%20%20%20%20%20%20%20%20%0A%0A%20%20%20%20%20%20%20%20geo_json_2ef6c5e586264b78a56f0cff5c4ae7cf.bindPopup%28popup_476c440d80fe4402ae0c83838d89ad80%29%0A%20%20%20%20%20%20%20%20%3B%0A%0A%20%20%20%20%20%20%20%20%0A%20%20%20%20%0A%20%20%20%20%0A%20%20%20%20%20%20%20%20function%20geo_json_6f242c94135d4840a624bd7e8ac3f01f_styler%28feature%29%20%7B%0A%20%20%20%20%20%20%20%20%20%20%20%20switch%28feature.id%29%20%7B%0A%20%20%20%20%20%20%20%20%20%20%20%20%20%20%20%20default%3A%0A%20%20%20%20%20%20%20%20%20%20%20%20%20%20%20%20%20%20%20%20return%20%7B%22fillColor%22%3A%20%22orange%22%7D%3B%0A%20%20%20%20%20%20%20%20%20%20%20%20%7D%0A%20%20%20%20%20%20%20%20%7D%0A%0A%20%20%20%20%20%20%20%20function%20geo_json_6f242c94135d4840a624bd7e8ac3f01f_onEachFeature%28feature%2C%20layer%29%20%7B%0A%20%20%20%20%20%20%20%20%20%20%20%20layer.on%28%7B%0A%20%20%20%20%20%20%20%20%20%20%20%20%7D%29%3B%0A%20%20%20%20%20%20%20%20%7D%3B%0A%20%20%20%20%20%20%20%20var%20geo_json_6f242c94135d4840a624bd7e8ac3f01f%20%3D%20L.geoJson%28null%2C%20%7B%0A%20%20%20%20%20%20%20%20%20%20%20%20%20%20%20%20onEachFeature%3A%20geo_json_6f242c94135d4840a624bd7e8ac3f01f_onEachFeature%2C%0A%20%20%20%20%20%20%20%20%20%20%20%20%0A%20%20%20%20%20%20%20%20%20%20%20%20%20%20%20%20style%3A%20geo_json_6f242c94135d4840a624bd7e8ac3f01f_styler%2C%0A%20%20%20%20%20%20%20%20%7D%29%3B%0A%0A%20%20%20%20%20%20%20%20function%20geo_json_6f242c94135d4840a624bd7e8ac3f01f_add%20%28data%29%20%7B%0A%20%20%20%20%20%20%20%20%20%20%20%20geo_json_6f242c94135d4840a624bd7e8ac3f01f%0A%20%20%20%20%20%20%20%20%20%20%20%20%20%20%20%20.addData%28data%29%0A%20%20%20%20%20%20%20%20%20%20%20%20%20%20%20%20.addTo%28map_30d14119ff8f4b2b9979f1752c782629%29%3B%0A%20%20%20%20%20%20%20%20%7D%0A%20%20%20%20%20%20%20%20%20%20%20%20geo_json_6f242c94135d4840a624bd7e8ac3f01f_add%28%7B%22bbox%22%3A%20%5B-3.3019204%2C%2040.298463%2C%208.7045469%2C%2050.1113302%5D%2C%20%22features%22%3A%20%5B%7B%22bbox%22%3A%20%5B-3.3019204%2C%2040.298463%2C%208.7045469%2C%2050.1113302%5D%2C%20%22geometry%22%3A%20%7B%22coordinates%22%3A%20%5B%5B-3.3019204%2C%2040.298463%5D%2C%20%5B8.7045469%2C%2050.1113302%5D%5D%2C%20%22type%22%3A%20%22LineString%22%7D%2C%20%22id%22%3A%20%220%22%2C%20%22properties%22%3A%20%7B%7D%2C%20%22type%22%3A%20%22Feature%22%7D%5D%2C%20%22type%22%3A%20%22FeatureCollection%22%7D%29%3B%0A%0A%20%20%20%20%20%20%20%20%0A%20%20%20%20%0A%20%20%20%20%20%20%20%20var%20popup_0d8f1bbdcfb24007bba044f819b01e55%20%3D%20L.popup%28%7B%22maxWidth%22%3A%20%22100%25%22%7D%29%3B%0A%0A%20%20%20%20%20%20%20%20%0A%20%20%20%20%20%20%20%20%20%20%20%20var%20html_14b3ed3f072d46d097fa2da594490542%20%3D%20%24%28%60%3Cdiv%20id%3D%22html_14b3ed3f072d46d097fa2da594490542%22%20style%3D%22width%3A%20100.0%25%3B%20height%3A%20100.0%25%3B%22%3EDistance%3A%201438.28%20km%3C/div%3E%60%29%5B0%5D%3B%0A%20%20%20%20%20%20%20%20%20%20%20%20popup_0d8f1bbdcfb24007bba044f819b01e55.setContent%28html_14b3ed3f072d46d097fa2da594490542%29%3B%0A%20%20%20%20%20%20%20%20%0A%0A%20%20%20%20%20%20%20%20geo_json_6f242c94135d4840a624bd7e8ac3f01f.bindPopup%28popup_0d8f1bbdcfb24007bba044f819b01e55%29%0A%20%20%20%20%20%20%20%20%3B%0A%0A%20%20%20%20%20%20%20%20%0A%20%20%20%20%0A%20%20%20%20%0A%20%20%20%20%20%20%20%20function%20geo_json_34c328e80f5c46c9a6a8c220e648eb41_styler%28feature%29%20%7B%0A%20%20%20%20%20%20%20%20%20%20%20%20switch%28feature.id%29%20%7B%0A%20%20%20%20%20%20%20%20%20%20%20%20%20%20%20%20default%3A%0A%20%20%20%20%20%20%20%20%20%20%20%20%20%20%20%20%20%20%20%20return%20%7B%22fillColor%22%3A%20%22orange%22%7D%3B%0A%20%20%20%20%20%20%20%20%20%20%20%20%7D%0A%20%20%20%20%20%20%20%20%7D%0A%0A%20%20%20%20%20%20%20%20function%20geo_json_34c328e80f5c46c9a6a8c220e648eb41_onEachFeature%28feature%2C%20layer%29%20%7B%0A%20%20%20%20%20%20%20%20%20%20%20%20layer.on%28%7B%0A%20%20%20%20%20%20%20%20%20%20%20%20%7D%29%3B%0A%20%20%20%20%20%20%20%20%7D%3B%0A%20%20%20%20%20%20%20%20var%20geo_json_34c328e80f5c46c9a6a8c220e648eb41%20%3D%20L.geoJson%28null%2C%20%7B%0A%20%20%20%20%20%20%20%20%20%20%20%20%20%20%20%20onEachFeature%3A%20geo_json_34c328e80f5c46c9a6a8c220e648eb41_onEachFeature%2C%0A%20%20%20%20%20%20%20%20%20%20%20%20%0A%20%20%20%20%20%20%20%20%20%20%20%20%20%20%20%20style%3A%20geo_json_34c328e80f5c46c9a6a8c220e648eb41_styler%2C%0A%20%20%20%20%20%20%20%20%7D%29%3B%0A%0A%20%20%20%20%20%20%20%20function%20geo_json_34c328e80f5c46c9a6a8c220e648eb41_add%20%28data%29%20%7B%0A%20%20%20%20%20%20%20%20%20%20%20%20geo_json_34c328e80f5c46c9a6a8c220e648eb41%0A%20%20%20%20%20%20%20%20%20%20%20%20%20%20%20%20.addData%28data%29%0A%20%20%20%20%20%20%20%20%20%20%20%20%20%20%20%20.addTo%28map_30d14119ff8f4b2b9979f1752c782629%29%3B%0A%20%20%20%20%20%20%20%20%7D%0A%20%20%20%20%20%20%20%20%20%20%20%20geo_json_34c328e80f5c46c9a6a8c220e648eb41_add%28%7B%22bbox%22%3A%20%5B8.7045469%2C%2037.98486%2C%2023.755946%2C%2050.1113302%5D%2C%20%22features%22%3A%20%5B%7B%22bbox%22%3A%20%5B8.7045469%2C%2037.98486%2C%2023.755946%2C%2050.1113302%5D%2C%20%22geometry%22%3A%20%7B%22coordinates%22%3A%20%5B%5B23.755946%2C%2037.98486%5D%2C%20%5B8.7045469%2C%2050.1113302%5D%5D%2C%20%22type%22%3A%20%22LineString%22%7D%2C%20%22id%22%3A%20%220%22%2C%20%22properties%22%3A%20%7B%7D%2C%20%22type%22%3A%20%22Feature%22%7D%5D%2C%20%22type%22%3A%20%22FeatureCollection%22%7D%29%3B%0A%0A%20%20%20%20%20%20%20%20%0A%20%20%20%20%0A%20%20%20%20%20%20%20%20var%20popup_8229a610b9184e6890c154f616c7d56a%20%3D%20L.popup%28%7B%22maxWidth%22%3A%20%22100%25%22%7D%29%3B%0A%0A%20%20%20%20%20%20%20%20%0A%20%20%20%20%20%20%20%20%20%20%20%20var%20html_6e0c814f61494737acc20e2a3498a16d%20%3D%20%24%28%60%3Cdiv%20id%3D%22html_6e0c814f61494737acc20e2a3498a16d%22%20style%3D%22width%3A%20100.0%25%3B%20height%3A%20100.0%25%3B%22%3EDistance%3A%201801.5877469126472%20km%3C/div%3E%60%29%5B0%5D%3B%0A%20%20%20%20%20%20%20%20%20%20%20%20popup_8229a610b9184e6890c154f616c7d56a.setContent%28html_6e0c814f61494737acc20e2a3498a16d%29%3B%0A%20%20%20%20%20%20%20%20%0A%0A%20%20%20%20%20%20%20%20geo_json_34c328e80f5c46c9a6a8c220e648eb41.bindPopup%28popup_8229a610b9184e6890c154f616c7d56a%29%0A%20%20%20%20%20%20%20%20%3B%0A%0A%20%20%20%20%20%20%20%20%0A%20%20%20%20%0A%3C/script%3E onload=\"this.contentDocument.open();this.contentDocument.write(    decodeURIComponent(this.getAttribute('data-html')));this.contentDocument.close();\" allowfullscreen webkitallowfullscreen mozallowfullscreen></iframe></div></div>"
      ],
      "text/plain": [
       "<folium.folium.Map at 0x7f71c67f4070>"
      ]
     },
     "execution_count": 8,
     "metadata": {},
     "output_type": "execute_result"
    }
   ],
   "source": [
    "map_folium = folium.Map(location=[48.8566969, 2.3514616], zoom_start=2)\n",
    "connections = pd.read_csv(\"data/connections.csv\", encoding=\"utf8\")\n",
    "for i, v in hosts_df.iterrows():\n",
    "    folium.Marker([v[\"latitude\"], v[\"longitude\"]],\n",
    "                  popup=\"<h3>%s</h3>%s\" % (v[\"name\"], v[\"notes\"]),\n",
    "                  icon = folium.Icon(color=\"lightgray\", icon=\"cloud\", prefix=\"fa\")).add_to(map_folium)\n",
    "lines = []\n",
    "for i, v in clients_df.iterrows():\n",
    "    folium.Marker([v[\"latitude\"], v[\"longitude\"]],\n",
    "                  popup=\"<h3>%s</h3>%s\" % (v[\"name\"], v[\"notes\"]),\n",
    "                  icon = folium.Icon(color=\"red\", icon=\"user\", prefix=\"fa\")).add_to(map_folium)\n",
    "    c = 0\n",
    "    for _, h in connections.loc[connections.client_id == v[\"client_id\"]].iterrows():\n",
    "        for _, host in hosts_df.loc[hosts_df.host_id == h[\"host_id\"]].iterrows():\n",
    "            lines.append((LineString([(v[\"longitude\"], v[\"latitude\"]), \n",
    "                                    (host[\"longitude\"], host[\"latitude\"])]),\n",
    "                          np.round(geodesic((v[\"latitude\"], v[\"longitude\"]),\n",
    "                                   (host[\"latitude\"], host[\"longitude\"])).km, 2)))\n",
    "        c += 1\n",
    "    if c == 0:\n",
    "        distances = [(geodesic((v[\"latitude\"], v[\"longitude\"]),\n",
    "                               (host[\"latitude\"], host[\"longitude\"])).km,\n",
    "                      (host[\"latitude\"], host[\"longitude\"]))\n",
    "                     for _, host in hosts_df.iterrows()]\n",
    "        host = distances[np.argmin([i[0] for i in distances])]\n",
    "        lines.append((LineString([(v[\"longitude\"], v[\"latitude\"]), \n",
    "                                    (host[1][1], host[1][0])]),\n",
    "                      host[0]\n",
    "                     ))\n",
    "\n",
    "\n",
    "folium.plugins.Fullscreen().add_to(map_folium)\n",
    "line_gdf = gpd.GeoDataFrame({'geometry': [l[0] for l in lines], 'distance': [l[1] for l in lines]})\n",
    "# Zur Berechnung der Entfernung:\n",
    "# >>> helsinki = (60.170329, 24.9532664)\n",
    "# >>> frankfurt = (50.1113302, 8.7045469)\n",
    "# >>> geodesic(helsinki, frankfurt).km\n",
    "# 1517.5562305192686\n",
    "\n",
    "\n",
    "for _, r in line_gdf.iterrows():\n",
    "    sim_geo = gpd.GeoSeries(r['geometry']).simplify(tolerance=0.001)\n",
    "    distance = r['distance']\n",
    "    geo_j = sim_geo.to_json()\n",
    "    geo_j = folium.GeoJson(data=geo_j, style_function=lambda x: {'fillColor': 'orange'})\n",
    "    folium.Popup(\"Distance: %s km\" % distance).add_to(geo_j)\n",
    "    geo_j.add_to(map_folium)\n",
    "map_folium.save(\"export/map_visualized.html\")\n",
    "map_folium"
   ]
  },
  {
   "cell_type": "code",
   "execution_count": null,
   "metadata": {},
   "outputs": [],
   "source": []
  }
 ],
 "metadata": {
  "kernelspec": {
   "display_name": "Python 3 (ipykernel)",
   "language": "python",
   "name": "python3"
  },
  "language_info": {
   "codemirror_mode": {
    "name": "ipython",
    "version": 3
   },
   "file_extension": ".py",
   "mimetype": "text/x-python",
   "name": "python",
   "nbconvert_exporter": "python",
   "pygments_lexer": "ipython3",
   "version": "3.8.10"
  }
 },
 "nbformat": 4,
 "nbformat_minor": 4
}
